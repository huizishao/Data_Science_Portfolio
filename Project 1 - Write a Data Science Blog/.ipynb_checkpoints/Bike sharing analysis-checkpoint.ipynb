{
 "cells": [
  {
   "cell_type": "markdown",
   "metadata": {},
   "source": [
    "# Bike Sharing Analysis with Ford GoBike Data\n",
    "\n",
    "## by Huizi Shao\n",
    "\n",
    "## Introduction\n",
    "\n",
    "> Bay Wheels is the first regional and large-scale bicycle sharing system deployed in California and on the West Coast of the United States. It was established as Bay Area Bike Share in August 2013.In June 2017 the system was officially re-launched as Ford GoBike in a partnership with Ford Motor Company. After Motivate's acquisition by Lyft, the system was renamed to Bay Wheels in June 2019. The system is expected to expand to 7,000 bicycles around 540 stations in San Francisco, Oakland, Berkeley, Emeryville, and San Jose. [@https://en.wikipedia.org/wiki/Bay_Wheels]\n",
    "\n",
    "> This document explores a dataset containing the information about the bike sharing system in Bay area of San Francisco, which in total 1.33 GB. \n",
    "\n",
    "> Ford goBike Data is available in this link: <a href=\"https://s3.amazonaws.com/fordgobike-data/index.html\">Ford goBike Data</a>\n",
    "\n",
    "\n"
   ]
  },
  {
   "cell_type": "markdown",
   "metadata": {},
   "source": [
    "## Table of content\n",
    "- Prepare the dataset\n",
    "- Simple Data Wrangling\n",
    "- Questions"
   ]
  },
  {
   "cell_type": "code",
   "execution_count": 1,
   "metadata": {},
   "outputs": [],
   "source": [
    "# import all packages and set plots to be embedded inline\n",
    "import numpy as np\n",
    "import pandas as pd\n",
    "import matplotlib.pyplot as plt\n",
    "import seaborn as sb\n",
    "\n",
    "from os import path, getcwd, makedirs, listdir \n",
    "from io import BytesIO\n",
    "from requests import get\n",
    "from zipfile import ZipFile\n",
    "\n",
    "import warnings\n",
    "warnings.filterwarnings('ignore')\n",
    "\n",
    "\n",
    "%matplotlib inline"
   ]
  },
  {
   "cell_type": "markdown",
   "metadata": {},
   "source": [
    "### Prepare the dataset"
   ]
  },
  {
   "cell_type": "code",
   "execution_count": 14,
   "metadata": {},
   "outputs": [],
   "source": [
    "folder_name_of_csvs = 'trip_data_files'"
   ]
  },
  {
   "cell_type": "code",
   "execution_count": null,
   "metadata": {},
   "outputs": [],
   "source": [
    "#load 2017 data\n",
    "makedirs(folder_name_of_csvs)\n",
    "pd.read_csv('https://s3.amazonaws.com/fordgobike-data/2017-fordgobike-tripdata.csv').to_csv('{}/2017-forgobike-tripdata.csv'.format(folder_name_of_csvs))"
   ]
  },
  {
   "cell_type": "code",
   "execution_count": 17,
   "metadata": {},
   "outputs": [],
   "source": [
    "#load 2018 data\n",
    "for month in range(1,13):\n",
    "    month_string = str(month)\n",
    "    month_leading_zero = month_string.zfill(2)\n",
    "    \n",
    "    bike_data_url = 'https://s3.amazonaws.com/fordgobike-data/2018' + month_leading_zero + '-fordgobike-tripdata.csv.zip'\n",
    "    response = get(bike_data_url)\n",
    "        \n",
    "    # code below opens zip file; BytesIO returns a readable and writeable view of the contents;\n",
    "    unzipped_file = ZipFile(BytesIO(response.content))\n",
    "        \n",
    "    # puts extracted zip file into folder trip_data_files\n",
    "    unzipped_file.extractall(folder_name_of_csvs)"
   ]
  },
  {
   "cell_type": "code",
   "execution_count": 19,
   "metadata": {},
   "outputs": [],
   "source": [
    "#load 2019 first part data\n",
    "for month in range(1,5):\n",
    "    month_string = str(month)\n",
    "    month_leading_zero = month_string.zfill(2)\n",
    "    \n",
    "    bike_data_url = 'https://s3.amazonaws.com/fordgobike-data/2019' + month_leading_zero + '-fordgobike-tripdata.csv.zip'\n",
    "    response = get(bike_data_url)\n",
    "        \n",
    "    # code below opens zip file; BytesIO returns a readable and writeable view of the contents;\n",
    "    unzipped_file = ZipFile(BytesIO(response.content))\n",
    "        \n",
    "    # puts extracted zip file into folder trip_data_files\n",
    "    unzipped_file.extractall(folder_name_of_csvs)"
   ]
  },
  {
   "cell_type": "code",
   "execution_count": 21,
   "metadata": {},
   "outputs": [],
   "source": [
    "#load 2019 second part data\n",
    "for month in range(5,13):\n",
    "    month_string = str(month)\n",
    "    month_leading_zero = month_string.zfill(2)\n",
    "    \n",
    "    bike_data_url = 'https://s3.amazonaws.com/baywheels-data/2019' + month_leading_zero + '-baywheels-tripdata.csv.zip'\n",
    "    response = get(bike_data_url)\n",
    "\n",
    "    # code below opens zip file; BytesIO returns a readable and writeable view of the contents;\n",
    "    unzipped_file = ZipFile(BytesIO(response.content))\n",
    "        \n",
    "    # puts extracted zip file into folder trip_data_files\n",
    "    unzipped_file.extractall(folder_name_of_csvs)"
   ]
  },
  {
   "cell_type": "code",
   "execution_count": 22,
   "metadata": {},
   "outputs": [],
   "source": [
    "#load 2020 data\n",
    "for month in range(1,7):\n",
    "    month_string = str(month)\n",
    "    month_leading_zero = month_string.zfill(2)\n",
    "    \n",
    "    bike_data_url = 'https://s3.amazonaws.com/baywheels-data/2020' + month_leading_zero + '-baywheels-tripdata.csv.zip'\n",
    "    response = get(bike_data_url)\n",
    "        \n",
    "    # code below opens zip file; BytesIO returns a readable and writeable view of the contents;\n",
    "    unzipped_file = ZipFile(BytesIO(response.content))\n",
    "        \n",
    "    # puts extracted zip file into folder trip_data_files\n",
    "    unzipped_file.extractall(folder_name_of_csvs)"
   ]
  },
  {
   "cell_type": "markdown",
   "metadata": {},
   "source": [
    "### Combine the datasets into one"
   ]
  },
  {
   "cell_type": "code",
   "execution_count": 2,
   "metadata": {},
   "outputs": [
    {
     "name": "stdout",
     "output_type": "stream",
     "text": [
      "current directory is : /Users/huizishao/Desktop/online class/Become a data scientist/write a blog\n"
     ]
    }
   ],
   "source": [
    "dirpath = getcwd()\n",
    "print(\"current directory is : \" + dirpath)"
   ]
  },
  {
   "cell_type": "code",
   "execution_count": 3,
   "metadata": {},
   "outputs": [],
   "source": [
    "import glob\n",
    "\n",
    "path = getcwd()\n",
    "\n",
    "all_files = glob.glob(path + \"/trip_data_files/*.csv\")\n",
    "#print(all_files)\n",
    "li = []\n",
    "\n",
    "for filename in all_files:\n",
    "\n",
    "    df = pd.read_csv(filename, index_col=None, header=0)\n",
    "\n",
    "    li.append(df)\n",
    "    #print(filename)\n",
    "\n",
    "frame = pd.concat(li, axis=0, ignore_index=True)"
   ]
  },
  {
   "cell_type": "code",
   "execution_count": 4,
   "metadata": {},
   "outputs": [],
   "source": [
    "frame.to_csv('data.csv',index = False)"
   ]
  },
  {
   "cell_type": "markdown",
   "metadata": {},
   "source": [
    "### Dataset\n",
    "- Trip Duration (seconds)\n",
    "- Start Time and Date\n",
    "- End Time and Date\n",
    "- Start Station ID\n",
    "- Start Station Name\n",
    "- Start Station Latitude\n",
    "- Start Station Longitude\n",
    "- End Station ID\n",
    "- End Station Name\n",
    "- End Station Latitude\n",
    "- End Station Longitude\n",
    "- Bike ID\n",
    "- User Type (Subscriber or Customer – “Subscriber” = Member or “Customer” = Casual)\n",
    "- Birth year of the member    \n",
    "- Gender of the member           \n",
    "- Bike share for all trip (Yes/No)\n"
   ]
  },
  {
   "cell_type": "code",
   "execution_count": 5,
   "metadata": {},
   "outputs": [],
   "source": [
    "df_default = pd.read_csv('data.csv')"
   ]
  },
  {
   "cell_type": "markdown",
   "metadata": {},
   "source": [
    "A lot of data is null and contain ambiguous infomation because of the columns as follows, they are decided to be deleted for further analyzing\n",
    "- started_at               object \n",
    "- ended_at                 object \n",
    "- start_lat                float64\n",
    "- start_lng                float64\n",
    "- end_lat                  float64\n",
    "- end_lng                  float64\n",
    "- ride_id                  object \n",
    "- rideable_type            object \n",
    "- member_casual            object \n",
    "- is_equity                object \n",
    "- Unnamed: 0               float64\n",
    "- rental_access_method     object\n"
   ]
  },
  {
   "cell_type": "code",
   "execution_count": 6,
   "metadata": {},
   "outputs": [
    {
     "data": {
      "text/plain": [
       "duration_sec                380678\n",
       "start_time                  380678\n",
       "end_time                    380678\n",
       "start_station_id            719516\n",
       "start_station_name          717682\n",
       "start_station_latitude      380678\n",
       "start_station_longitude     380678\n",
       "end_station_id              727345\n",
       "end_station_name            725519\n",
       "end_station_latitude        380678\n",
       "end_station_longitude       380678\n",
       "bike_id                     380678\n",
       "user_type                   380678\n",
       "member_birth_year          3139930\n",
       "member_gender              3139497\n",
       "bike_share_for_all_trip    2048644\n",
       "Unnamed: 0                 5656389\n",
       "rental_access_method       5437393\n",
       "ride_id                    5795411\n",
       "rideable_type              5795411\n",
       "started_at                 5795411\n",
       "ended_at                   5795411\n",
       "start_lat                  5795411\n",
       "start_lng                  5795411\n",
       "end_lat                    5796053\n",
       "end_lng                    5796053\n",
       "member_casual              5795411\n",
       "is_equity                  6037838\n",
       "dtype: int64"
      ]
     },
     "execution_count": 6,
     "metadata": {},
     "output_type": "execute_result"
    }
   ],
   "source": [
    "df_default.isnull().sum()"
   ]
  },
  {
   "cell_type": "code",
   "execution_count": 7,
   "metadata": {},
   "outputs": [],
   "source": [
    "#save the new dataset into df\n",
    "df = df_default.drop(['started_at','ended_at','start_lat','start_lng','end_lat','end_lng','ride_id',\n",
    "                     'rideable_type','member_casual','is_equity','Unnamed: 0','rental_access_method'], axis = 1)"
   ]
  },
  {
   "cell_type": "code",
   "execution_count": 8,
   "metadata": {},
   "outputs": [
    {
     "name": "stdout",
     "output_type": "stream",
     "text": [
      "<class 'pandas.core.frame.DataFrame'>\n",
      "RangeIndex: 6176089 entries, 0 to 6176088\n",
      "Data columns (total 16 columns):\n",
      " #   Column                   Dtype  \n",
      "---  ------                   -----  \n",
      " 0   duration_sec             float64\n",
      " 1   start_time               object \n",
      " 2   end_time                 object \n",
      " 3   start_station_id         float64\n",
      " 4   start_station_name       object \n",
      " 5   start_station_latitude   float64\n",
      " 6   start_station_longitude  float64\n",
      " 7   end_station_id           float64\n",
      " 8   end_station_name         object \n",
      " 9   end_station_latitude     float64\n",
      " 10  end_station_longitude    float64\n",
      " 11  bike_id                  float64\n",
      " 12  user_type                object \n",
      " 13  member_birth_year        float64\n",
      " 14  member_gender            object \n",
      " 15  bike_share_for_all_trip  object \n",
      "dtypes: float64(9), object(7)\n",
      "memory usage: 753.9+ MB\n"
     ]
    }
   ],
   "source": [
    "df.info()"
   ]
  },
  {
   "cell_type": "code",
   "execution_count": 9,
   "metadata": {},
   "outputs": [
    {
     "data": {
      "text/plain": [
       "duration_sec                380678\n",
       "start_time                  380678\n",
       "end_time                    380678\n",
       "start_station_id            719516\n",
       "start_station_name          717682\n",
       "start_station_latitude      380678\n",
       "start_station_longitude     380678\n",
       "end_station_id              727345\n",
       "end_station_name            725519\n",
       "end_station_latitude        380678\n",
       "end_station_longitude       380678\n",
       "bike_id                     380678\n",
       "user_type                   380678\n",
       "member_birth_year          3139930\n",
       "member_gender              3139497\n",
       "bike_share_for_all_trip    2048644\n",
       "dtype: int64"
      ]
     },
     "execution_count": 9,
     "metadata": {},
     "output_type": "execute_result"
    }
   ],
   "source": [
    "df.isnull().sum()"
   ]
  },
  {
   "cell_type": "code",
   "execution_count": 10,
   "metadata": {},
   "outputs": [
    {
     "data": {
      "text/plain": [
       "(6176089, 16)"
      ]
     },
     "execution_count": 10,
     "metadata": {},
     "output_type": "execute_result"
    }
   ],
   "source": [
    "df.shape"
   ]
  },
  {
   "cell_type": "code",
   "execution_count": 11,
   "metadata": {},
   "outputs": [],
   "source": [
    "df['start_time'] = pd.to_datetime(df['start_time']) \n",
    "df['end_time'] = pd.to_datetime(df['end_time']) "
   ]
  },
  {
   "cell_type": "code",
   "execution_count": 166,
   "metadata": {},
   "outputs": [],
   "source": [
    "df_copy = df"
   ]
  },
  {
   "cell_type": "code",
   "execution_count": 167,
   "metadata": {},
   "outputs": [
    {
     "data": {
      "text/html": [
       "<div>\n",
       "<style scoped>\n",
       "    .dataframe tbody tr th:only-of-type {\n",
       "        vertical-align: middle;\n",
       "    }\n",
       "\n",
       "    .dataframe tbody tr th {\n",
       "        vertical-align: top;\n",
       "    }\n",
       "\n",
       "    .dataframe thead th {\n",
       "        text-align: right;\n",
       "    }\n",
       "</style>\n",
       "<table border=\"1\" class=\"dataframe\">\n",
       "  <thead>\n",
       "    <tr style=\"text-align: right;\">\n",
       "      <th></th>\n",
       "      <th>duration_sec</th>\n",
       "      <th>start_time</th>\n",
       "      <th>end_time</th>\n",
       "      <th>start_station_id</th>\n",
       "      <th>start_station_name</th>\n",
       "      <th>start_station_latitude</th>\n",
       "      <th>start_station_longitude</th>\n",
       "      <th>end_station_id</th>\n",
       "      <th>end_station_name</th>\n",
       "      <th>end_station_latitude</th>\n",
       "      <th>end_station_longitude</th>\n",
       "      <th>bike_id</th>\n",
       "      <th>user_type</th>\n",
       "      <th>member_birth_year</th>\n",
       "      <th>member_gender</th>\n",
       "      <th>bike_share_for_all_trip</th>\n",
       "    </tr>\n",
       "  </thead>\n",
       "  <tbody>\n",
       "    <tr>\n",
       "      <th>3104025</th>\n",
       "      <td>NaN</td>\n",
       "      <td>NaT</td>\n",
       "      <td>NaT</td>\n",
       "      <td>NaN</td>\n",
       "      <td>NaN</td>\n",
       "      <td>NaN</td>\n",
       "      <td>NaN</td>\n",
       "      <td>NaN</td>\n",
       "      <td>NaN</td>\n",
       "      <td>NaN</td>\n",
       "      <td>NaN</td>\n",
       "      <td>NaN</td>\n",
       "      <td>NaN</td>\n",
       "      <td>NaN</td>\n",
       "      <td>NaN</td>\n",
       "      <td>NaN</td>\n",
       "    </tr>\n",
       "    <tr>\n",
       "      <th>3104027</th>\n",
       "      <td>NaN</td>\n",
       "      <td>NaT</td>\n",
       "      <td>NaT</td>\n",
       "      <td>NaN</td>\n",
       "      <td>NaN</td>\n",
       "      <td>NaN</td>\n",
       "      <td>NaN</td>\n",
       "      <td>NaN</td>\n",
       "      <td>NaN</td>\n",
       "      <td>NaN</td>\n",
       "      <td>NaN</td>\n",
       "      <td>NaN</td>\n",
       "      <td>NaN</td>\n",
       "      <td>NaN</td>\n",
       "      <td>NaN</td>\n",
       "      <td>NaN</td>\n",
       "    </tr>\n",
       "    <tr>\n",
       "      <th>3104029</th>\n",
       "      <td>NaN</td>\n",
       "      <td>NaT</td>\n",
       "      <td>NaT</td>\n",
       "      <td>NaN</td>\n",
       "      <td>NaN</td>\n",
       "      <td>NaN</td>\n",
       "      <td>NaN</td>\n",
       "      <td>NaN</td>\n",
       "      <td>NaN</td>\n",
       "      <td>NaN</td>\n",
       "      <td>NaN</td>\n",
       "      <td>NaN</td>\n",
       "      <td>NaN</td>\n",
       "      <td>NaN</td>\n",
       "      <td>NaN</td>\n",
       "      <td>NaN</td>\n",
       "    </tr>\n",
       "    <tr>\n",
       "      <th>3104030</th>\n",
       "      <td>NaN</td>\n",
       "      <td>NaT</td>\n",
       "      <td>NaT</td>\n",
       "      <td>NaN</td>\n",
       "      <td>NaN</td>\n",
       "      <td>NaN</td>\n",
       "      <td>NaN</td>\n",
       "      <td>NaN</td>\n",
       "      <td>NaN</td>\n",
       "      <td>NaN</td>\n",
       "      <td>NaN</td>\n",
       "      <td>NaN</td>\n",
       "      <td>NaN</td>\n",
       "      <td>NaN</td>\n",
       "      <td>NaN</td>\n",
       "      <td>NaN</td>\n",
       "    </tr>\n",
       "    <tr>\n",
       "      <th>3104033</th>\n",
       "      <td>NaN</td>\n",
       "      <td>NaT</td>\n",
       "      <td>NaT</td>\n",
       "      <td>NaN</td>\n",
       "      <td>NaN</td>\n",
       "      <td>NaN</td>\n",
       "      <td>NaN</td>\n",
       "      <td>NaN</td>\n",
       "      <td>NaN</td>\n",
       "      <td>NaN</td>\n",
       "      <td>NaN</td>\n",
       "      <td>NaN</td>\n",
       "      <td>NaN</td>\n",
       "      <td>NaN</td>\n",
       "      <td>NaN</td>\n",
       "      <td>NaN</td>\n",
       "    </tr>\n",
       "    <tr>\n",
       "      <th>...</th>\n",
       "      <td>...</td>\n",
       "      <td>...</td>\n",
       "      <td>...</td>\n",
       "      <td>...</td>\n",
       "      <td>...</td>\n",
       "      <td>...</td>\n",
       "      <td>...</td>\n",
       "      <td>...</td>\n",
       "      <td>...</td>\n",
       "      <td>...</td>\n",
       "      <td>...</td>\n",
       "      <td>...</td>\n",
       "      <td>...</td>\n",
       "      <td>...</td>\n",
       "      <td>...</td>\n",
       "      <td>...</td>\n",
       "    </tr>\n",
       "    <tr>\n",
       "      <th>5525876</th>\n",
       "      <td>2101.0</td>\n",
       "      <td>2020-03-01 15:34:57</td>\n",
       "      <td>2020-03-01 16:09:59</td>\n",
       "      <td>NaN</td>\n",
       "      <td>NaN</td>\n",
       "      <td>37.809066</td>\n",
       "      <td>-122.474850</td>\n",
       "      <td>NaN</td>\n",
       "      <td>NaN</td>\n",
       "      <td>37.805210</td>\n",
       "      <td>-122.433920</td>\n",
       "      <td>326439.0</td>\n",
       "      <td>Subscriber</td>\n",
       "      <td>NaN</td>\n",
       "      <td>NaN</td>\n",
       "      <td>NaN</td>\n",
       "    </tr>\n",
       "    <tr>\n",
       "      <th>5525877</th>\n",
       "      <td>2205.0</td>\n",
       "      <td>2020-03-01 15:36:34</td>\n",
       "      <td>2020-03-01 16:13:19</td>\n",
       "      <td>NaN</td>\n",
       "      <td>NaN</td>\n",
       "      <td>37.809074</td>\n",
       "      <td>-122.474918</td>\n",
       "      <td>NaN</td>\n",
       "      <td>NaN</td>\n",
       "      <td>37.805186</td>\n",
       "      <td>-122.433564</td>\n",
       "      <td>232967.0</td>\n",
       "      <td>Customer</td>\n",
       "      <td>NaN</td>\n",
       "      <td>NaN</td>\n",
       "      <td>NaN</td>\n",
       "    </tr>\n",
       "    <tr>\n",
       "      <th>5525878</th>\n",
       "      <td>2035.0</td>\n",
       "      <td>2020-03-01 15:36:28</td>\n",
       "      <td>2020-03-01 16:10:23</td>\n",
       "      <td>NaN</td>\n",
       "      <td>NaN</td>\n",
       "      <td>37.809100</td>\n",
       "      <td>-122.474939</td>\n",
       "      <td>NaN</td>\n",
       "      <td>NaN</td>\n",
       "      <td>37.805173</td>\n",
       "      <td>-122.433598</td>\n",
       "      <td>474460.0</td>\n",
       "      <td>Customer</td>\n",
       "      <td>NaN</td>\n",
       "      <td>NaN</td>\n",
       "      <td>NaN</td>\n",
       "    </tr>\n",
       "    <tr>\n",
       "      <th>5525881</th>\n",
       "      <td>1183.0</td>\n",
       "      <td>2020-03-01 12:26:56</td>\n",
       "      <td>2020-03-01 12:46:40</td>\n",
       "      <td>NaN</td>\n",
       "      <td>NaN</td>\n",
       "      <td>37.809138</td>\n",
       "      <td>-122.415689</td>\n",
       "      <td>NaN</td>\n",
       "      <td>NaN</td>\n",
       "      <td>37.806195</td>\n",
       "      <td>-122.405260</td>\n",
       "      <td>866334.0</td>\n",
       "      <td>Customer</td>\n",
       "      <td>NaN</td>\n",
       "      <td>NaN</td>\n",
       "      <td>NaN</td>\n",
       "    </tr>\n",
       "    <tr>\n",
       "      <th>5525888</th>\n",
       "      <td>1018.0</td>\n",
       "      <td>2020-03-01 12:29:54</td>\n",
       "      <td>2020-03-01 12:46:53</td>\n",
       "      <td>NaN</td>\n",
       "      <td>NaN</td>\n",
       "      <td>37.809176</td>\n",
       "      <td>-122.415754</td>\n",
       "      <td>NaN</td>\n",
       "      <td>NaN</td>\n",
       "      <td>37.806158</td>\n",
       "      <td>-122.405295</td>\n",
       "      <td>572370.0</td>\n",
       "      <td>Customer</td>\n",
       "      <td>NaN</td>\n",
       "      <td>NaN</td>\n",
       "      <td>NaN</td>\n",
       "    </tr>\n",
       "  </tbody>\n",
       "</table>\n",
       "<p>353208 rows × 16 columns</p>\n",
       "</div>"
      ],
      "text/plain": [
       "         duration_sec          start_time            end_time  \\\n",
       "3104025           NaN                 NaT                 NaT   \n",
       "3104027           NaN                 NaT                 NaT   \n",
       "3104029           NaN                 NaT                 NaT   \n",
       "3104030           NaN                 NaT                 NaT   \n",
       "3104033           NaN                 NaT                 NaT   \n",
       "...               ...                 ...                 ...   \n",
       "5525876        2101.0 2020-03-01 15:34:57 2020-03-01 16:09:59   \n",
       "5525877        2205.0 2020-03-01 15:36:34 2020-03-01 16:13:19   \n",
       "5525878        2035.0 2020-03-01 15:36:28 2020-03-01 16:10:23   \n",
       "5525881        1183.0 2020-03-01 12:26:56 2020-03-01 12:46:40   \n",
       "5525888        1018.0 2020-03-01 12:29:54 2020-03-01 12:46:53   \n",
       "\n",
       "         start_station_id start_station_name  start_station_latitude  \\\n",
       "3104025               NaN                NaN                     NaN   \n",
       "3104027               NaN                NaN                     NaN   \n",
       "3104029               NaN                NaN                     NaN   \n",
       "3104030               NaN                NaN                     NaN   \n",
       "3104033               NaN                NaN                     NaN   \n",
       "...                   ...                ...                     ...   \n",
       "5525876               NaN                NaN               37.809066   \n",
       "5525877               NaN                NaN               37.809074   \n",
       "5525878               NaN                NaN               37.809100   \n",
       "5525881               NaN                NaN               37.809138   \n",
       "5525888               NaN                NaN               37.809176   \n",
       "\n",
       "         start_station_longitude  end_station_id end_station_name  \\\n",
       "3104025                      NaN             NaN              NaN   \n",
       "3104027                      NaN             NaN              NaN   \n",
       "3104029                      NaN             NaN              NaN   \n",
       "3104030                      NaN             NaN              NaN   \n",
       "3104033                      NaN             NaN              NaN   \n",
       "...                          ...             ...              ...   \n",
       "5525876              -122.474850             NaN              NaN   \n",
       "5525877              -122.474918             NaN              NaN   \n",
       "5525878              -122.474939             NaN              NaN   \n",
       "5525881              -122.415689             NaN              NaN   \n",
       "5525888              -122.415754             NaN              NaN   \n",
       "\n",
       "         end_station_latitude  end_station_longitude   bike_id   user_type  \\\n",
       "3104025                   NaN                    NaN       NaN         NaN   \n",
       "3104027                   NaN                    NaN       NaN         NaN   \n",
       "3104029                   NaN                    NaN       NaN         NaN   \n",
       "3104030                   NaN                    NaN       NaN         NaN   \n",
       "3104033                   NaN                    NaN       NaN         NaN   \n",
       "...                       ...                    ...       ...         ...   \n",
       "5525876             37.805210            -122.433920  326439.0  Subscriber   \n",
       "5525877             37.805186            -122.433564  232967.0    Customer   \n",
       "5525878             37.805173            -122.433598  474460.0    Customer   \n",
       "5525881             37.806195            -122.405260  866334.0    Customer   \n",
       "5525888             37.806158            -122.405295  572370.0    Customer   \n",
       "\n",
       "         member_birth_year member_gender bike_share_for_all_trip  \n",
       "3104025                NaN           NaN                     NaN  \n",
       "3104027                NaN           NaN                     NaN  \n",
       "3104029                NaN           NaN                     NaN  \n",
       "3104030                NaN           NaN                     NaN  \n",
       "3104033                NaN           NaN                     NaN  \n",
       "...                    ...           ...                     ...  \n",
       "5525876                NaN           NaN                     NaN  \n",
       "5525877                NaN           NaN                     NaN  \n",
       "5525878                NaN           NaN                     NaN  \n",
       "5525881                NaN           NaN                     NaN  \n",
       "5525888                NaN           NaN                     NaN  \n",
       "\n",
       "[353208 rows x 16 columns]"
      ]
     },
     "execution_count": 167,
     "metadata": {},
     "output_type": "execute_result"
    }
   ],
   "source": [
    "df_copy[df_copy.duplicated()]"
   ]
  },
  {
   "cell_type": "code",
   "execution_count": 168,
   "metadata": {},
   "outputs": [],
   "source": [
    "df_copy = df_copy.drop_duplicates()"
   ]
  },
  {
   "cell_type": "code",
   "execution_count": 107,
   "metadata": {},
   "outputs": [
    {
     "data": {
      "text/plain": [
       "duration_sec                 34982\n",
       "start_time                   34982\n",
       "end_time                     34982\n",
       "start_station_id            572767\n",
       "start_station_name          570933\n",
       "start_station_latitude       34982\n",
       "start_station_longitude      34982\n",
       "end_station_id              574498\n",
       "end_station_name            572672\n",
       "end_station_latitude         34982\n",
       "end_station_longitude        34982\n",
       "bike_id                      34982\n",
       "user_type                    34982\n",
       "member_birth_year          2786722\n",
       "member_gender              2786289\n",
       "bike_share_for_all_trip    1695436\n",
       "dtype: int64"
      ]
     },
     "execution_count": 107,
     "metadata": {},
     "output_type": "execute_result"
    }
   ],
   "source": [
    "df_copy.isnull().sum()"
   ]
  },
  {
   "cell_type": "code",
   "execution_count": 169,
   "metadata": {},
   "outputs": [
    {
     "name": "stdout",
     "output_type": "stream",
     "text": [
      "<class 'pandas.core.frame.DataFrame'>\n",
      "Int64Index: 5822881 entries, 0 to 6176088\n",
      "Data columns (total 16 columns):\n",
      " #   Column                   Dtype         \n",
      "---  ------                   -----         \n",
      " 0   duration_sec             float64       \n",
      " 1   start_time               datetime64[ns]\n",
      " 2   end_time                 datetime64[ns]\n",
      " 3   start_station_id         float64       \n",
      " 4   start_station_name       object        \n",
      " 5   start_station_latitude   float64       \n",
      " 6   start_station_longitude  float64       \n",
      " 7   end_station_id           float64       \n",
      " 8   end_station_name         object        \n",
      " 9   end_station_latitude     float64       \n",
      " 10  end_station_longitude    float64       \n",
      " 11  bike_id                  float64       \n",
      " 12  user_type                object        \n",
      " 13  member_birth_year        float64       \n",
      " 14  member_gender            object        \n",
      " 15  bike_share_for_all_trip  object        \n",
      "dtypes: datetime64[ns](2), float64(9), object(5)\n",
      "memory usage: 755.2+ MB\n"
     ]
    }
   ],
   "source": [
    "df_copy.info()"
   ]
  },
  {
   "cell_type": "markdown",
   "metadata": {},
   "source": [
    "### Data structure\n",
    "- The data is 5822881 rows and 16 columns. "
   ]
  },
  {
   "cell_type": "markdown",
   "metadata": {},
   "source": [
    "### 1. What is distribution of the `bike trip duration`?\n"
   ]
  },
  {
   "cell_type": "code",
   "execution_count": 170,
   "metadata": {},
   "outputs": [],
   "source": [
    "df_copy['duration_min'] = df_copy['duration_sec'] / 60"
   ]
  },
  {
   "cell_type": "code",
   "execution_count": 20,
   "metadata": {},
   "outputs": [
    {
     "data": {
      "image/png": "[encoded data removed]",
      "text/plain": [
       "<Figure size 576x360 with 1 Axes>"
      ]
     },
     "metadata": {
      "needs_background": "light"
     },
     "output_type": "display_data"
    }
   ],
   "source": [
    "# start with a standard-scaled plot\n",
    "binsize = 1\n",
    "bins = np.arange(0, df_copy['duration_min'].max()+binsize, binsize)\n",
    "plt.figure(figsize=[8, 5])\n",
    "plt.hist(data = df_copy, x = 'duration_min', bins = bins)\n",
    "\n",
    "plt.xlim(0,60)\n",
    "plt.xlabel('Duration (min)')\n",
    "#plt.ylabel('Frequency')\n",
    "plt.title('Distribution of Duration')\n",
    "plt.show()"
   ]
  },
  {
   "cell_type": "code",
   "execution_count": 187,
   "metadata": {},
   "outputs": [
    {
     "data": {
      "image/png": "[encoded data removed]",
      "text/plain": [
       "<Figure size 576x360 with 1 Axes>"
      ]
     },
     "metadata": {
      "needs_background": "light"
     },
     "output_type": "display_data"
    },
    {
     "data": {
      "text/plain": [
       "<Figure size 432x288 with 0 Axes>"
      ]
     },
     "metadata": {},
     "output_type": "display_data"
    }
   ],
   "source": [
    "# there's a long tail in the distribution, so let's put it on a log scale instead\n",
    "\n",
    "log_binsize = 0.05\n",
    "bins = 10 ** np.arange(0, np.log10(df_copy['duration_min'].max())+log_binsize, log_binsize)\n",
    "\n",
    "plt.figure(figsize=[8, 5])\n",
    "plt.hist(data = df_copy, x = 'duration_min', bins = bins)\n",
    "plt.xscale('log')\n",
    "plt.xlim(0,3000)\n",
    "plt.xticks([1 , 10, 100, 1000])\n",
    "plt.xlabel('Duration (min)')\n",
    "plt.ylabel('Frequency')\n",
    "plt.title('Distribution of Duration')\n",
    "plt.show()\n",
    "plt.savefig('duration.png');"
   ]
  },
  {
   "cell_type": "markdown",
   "metadata": {},
   "source": [
    "- Duration(min) has a long-tailed distribution/ Right-skewed, with a lot of diamonds on the low duration end, and few on the high duration end. \n",
    "- When plotted on a log-scale, the duration distribution looks normal, with mean around 10 min.\n"
   ]
  },
  {
   "cell_type": "markdown",
   "metadata": {},
   "source": [
    "### 2. What is major `Age group` for the users? "
   ]
  },
  {
   "cell_type": "code",
   "execution_count": 22,
   "metadata": {},
   "outputs": [
    {
     "data": {
      "text/plain": [
       "1988.0    174820\n",
       "1987.0    148691\n",
       "1989.0    148213\n",
       "1990.0    141104\n",
       "1985.0    136066\n",
       "           ...  \n",
       "1886.0         3\n",
       "1906.0         2\n",
       "1930.0         2\n",
       "1903.0         1\n",
       "1910.0         1\n",
       "Name: member_birth_year, Length: 93, dtype: int64"
      ]
     },
     "execution_count": 22,
     "metadata": {},
     "output_type": "execute_result"
    }
   ],
   "source": [
    "df_copy.member_birth_year.value_counts()"
   ]
  },
  {
   "cell_type": "code",
   "execution_count": 171,
   "metadata": {},
   "outputs": [],
   "source": [
    "df_copy['age_member'] = 2020 - df_copy['member_birth_year']"
   ]
  },
  {
   "cell_type": "code",
   "execution_count": 24,
   "metadata": {},
   "outputs": [
    {
     "data": {
      "text/plain": [
       "count    3.036159e+06\n",
       "mean     3.686325e+01\n",
       "std      1.043760e+01\n",
       "min      1.900000e+01\n",
       "50%      3.500000e+01\n",
       "60%      3.700000e+01\n",
       "70%      4.000000e+01\n",
       "75%      4.200000e+01\n",
       "80%      4.500000e+01\n",
       "90%      5.200000e+01\n",
       "95%      5.700000e+01\n",
       "max      1.420000e+02\n",
       "Name: age_member, dtype: float64"
      ]
     },
     "execution_count": 24,
     "metadata": {},
     "output_type": "execute_result"
    }
   ],
   "source": [
    "df_copy.age_member.describe(percentiles = [.6, .7, .75, .8, .9, .95])"
   ]
  },
  {
   "cell_type": "code",
   "execution_count": 28,
   "metadata": {},
   "outputs": [
    {
     "data": {
      "image/png": "[encoded data removed]",
      "text/plain": [
       "<Figure size 1008x432 with 1 Axes>"
      ]
     },
     "metadata": {
      "needs_background": "light"
     },
     "output_type": "display_data"
    }
   ],
   "source": [
    "default_color = sb.color_palette()[0]\n",
    "\n",
    "plt.figure(figsize=(14,6))\n",
    "sb.boxplot(data=df_copy, x='age_member', color = default_color, orient='h')\n",
    "plt.xlabel('Age of member', fontsize=13)\n",
    "plt.title('Age distritbuion of members', fontsize=15);"
   ]
  },
  {
   "cell_type": "markdown",
   "metadata": {},
   "source": [
    "- From the percetile analyzing, age from 19 to 56 takes 95% of the users\n",
    "- From the boxplot, we can find a lot of outlinears above 60 years old\n",
    "- It covers much percentiles and seems not safe and possible for users above 60 use bike sharing\n",
    "- Decide to remfor further analyzing"
   ]
  },
  {
   "cell_type": "code",
   "execution_count": 172,
   "metadata": {},
   "outputs": [],
   "source": [
    "df_copy = df_copy[df_copy['age_member'] <= 60]"
   ]
  },
  {
   "cell_type": "code",
   "execution_count": 29,
   "metadata": {},
   "outputs": [
    {
     "data": {
      "image/png": "[encoded data removed]",
      "text/plain": [
       "<Figure size 1440x216 with 1 Axes>"
      ]
     },
     "metadata": {
      "needs_background": "light"
     },
     "output_type": "display_data"
    }
   ],
   "source": [
    "birth_order= df_copy.member_birth_year.value_counts().index\n",
    "\n",
    "plt.figure(figsize=(20, 3))\n",
    "sb.countplot(data=df_copy,x='member_birth_year',order = birth_order, color = default_color)\n",
    "plt.title('Birth Year distritbuion of member',fontsize=15)\n",
    "plt.xlabel('Birth year', fontsize=13)\n",
    "plt.xticks(rotation = 90);"
   ]
  },
  {
   "cell_type": "code",
   "execution_count": 30,
   "metadata": {},
   "outputs": [],
   "source": [
    "age_order= df_copy.age_member.value_counts().index"
   ]
  },
  {
   "cell_type": "code",
   "execution_count": 31,
   "metadata": {},
   "outputs": [
    {
     "data": {
      "image/png": "[encoded data removed]",
      "text/plain": [
       "<Figure size 1440x216 with 1 Axes>"
      ]
     },
     "metadata": {
      "needs_background": "light"
     },
     "output_type": "display_data"
    }
   ],
   "source": [
    "plt.figure(figsize=(20, 3))\n",
    "\n",
    "age_order = df_copy.age_member.value_counts().index\n",
    "sb.countplot(data=df_copy,x ='age_member', order = age_order, color = default_color)\n",
    "plt.xlabel('Age', fontsize=13)\n",
    "plt.ylabel('Count', fontsize=13)\n",
    "plt.title('Age distritbuion of members',fontsize=15)\n",
    "plt.xticks(rotation = 90);"
   ]
  },
  {
   "cell_type": "markdown",
   "metadata": {},
   "source": [
    "> Group ages to further analyzing"
   ]
  },
  {
   "cell_type": "code",
   "execution_count": 32,
   "metadata": {},
   "outputs": [],
   "source": [
    "age_idx = df_copy.age_member.value_counts().index"
   ]
  },
  {
   "cell_type": "code",
   "execution_count": 33,
   "metadata": {},
   "outputs": [],
   "source": [
    "age_count = df_copy.age_member.value_counts().values"
   ]
  },
  {
   "cell_type": "code",
   "execution_count": 34,
   "metadata": {},
   "outputs": [],
   "source": [
    "age_list = df_copy.age_member.value_counts().index\n",
    "\n",
    "from collections import defaultdict\n",
    "ages = defaultdict(int)\n",
    "\n",
    "for i in range(len(age_idx)):\n",
    "    if age_idx[i] > 50:\n",
    "        ages['50-60'] += age_count[i]\n",
    "    elif age_idx[i] > 40:\n",
    "        ages['40-50'] += age_count[i]\n",
    "    elif age_idx[i] > 30:\n",
    "        ages['30-40'] += age_count[i]\n",
    "    elif age_idx[i] > 20:\n",
    "        ages['20-30'] += age_count[i]\n",
    "    elif age_idx[i] > 10:\n",
    "        ages['10-20'] += age_count[i]     "
   ]
  },
  {
   "cell_type": "code",
   "execution_count": 196,
   "metadata": {},
   "outputs": [
    {
     "data": {
      "image/png": "[encoded data removed]",
      "text/plain": [
       "<Figure size 576x576 with 1 Axes>"
      ]
     },
     "metadata": {},
     "output_type": "display_data"
    }
   ],
   "source": [
    "plt.figure(figsize=(8, 8))\n",
    "\n",
    "plt.pie([float(v) for v in values], labels=[str(k) for k in keys], autopct='%1.1f%%')\n",
    "plt.title('Age Groups of members', fontsize =15)\n",
    "plt.savefig('AgeGroup.png');"
   ]
  },
  {
   "cell_type": "code",
   "execution_count": 35,
   "metadata": {},
   "outputs": [
    {
     "data": {
      "image/png": "[encoded data removed]",
      "text/plain": [
       "<Figure size 1440x216 with 1 Axes>"
      ]
     },
     "metadata": {
      "needs_background": "light"
     },
     "output_type": "display_data"
    }
   ],
   "source": [
    "plt.figure(figsize=(20, 3))\n",
    "\n",
    "keys = ages.keys()\n",
    "values = ages.values()\n",
    "plt.bar(keys, values)\n",
    "plt.xticks(rotation = 90)\n",
    "plt.xlabel('Age Group',fontsize =13)\n",
    "plt.ylabel('Count',fontsize =13)\n",
    "plt.title('Age Groups distritbuion of members', fontsize =15);"
   ]
  },
  {
   "cell_type": "code",
   "execution_count": 37,
   "metadata": {},
   "outputs": [
    {
     "data": {
      "text/plain": [
       "defaultdict(int,\n",
       "            {'30-40': 1257225,\n",
       "             '20-30': 897364,\n",
       "             '40-50': 509703,\n",
       "             '50-60': 267428,\n",
       "             '10-20': 12810})"
      ]
     },
     "execution_count": 37,
     "metadata": {},
     "output_type": "execute_result"
    }
   ],
   "source": [
    "ages"
   ]
  },
  {
   "cell_type": "code",
   "execution_count": 173,
   "metadata": {},
   "outputs": [],
   "source": [
    "#add age group to the dataset\n",
    "bins= [10,20,30,40,50,60]\n",
    "labels = ['10-20','20-30','30-40','40-50','50-60']\n",
    "df_copy['age_group'] = pd.cut(df_copy['age_member'], bins=bins, labels=labels, right=True)"
   ]
  },
  {
   "cell_type": "code",
   "execution_count": 174,
   "metadata": {},
   "outputs": [
    {
     "data": {
      "text/html": [
       "<div>\n",
       "<style scoped>\n",
       "    .dataframe tbody tr th:only-of-type {\n",
       "        vertical-align: middle;\n",
       "    }\n",
       "\n",
       "    .dataframe tbody tr th {\n",
       "        vertical-align: top;\n",
       "    }\n",
       "\n",
       "    .dataframe thead th {\n",
       "        text-align: right;\n",
       "    }\n",
       "</style>\n",
       "<table border=\"1\" class=\"dataframe\">\n",
       "  <thead>\n",
       "    <tr style=\"text-align: right;\">\n",
       "      <th></th>\n",
       "      <th>duration_sec</th>\n",
       "      <th>start_time</th>\n",
       "      <th>end_time</th>\n",
       "      <th>start_station_id</th>\n",
       "      <th>start_station_name</th>\n",
       "      <th>start_station_latitude</th>\n",
       "      <th>start_station_longitude</th>\n",
       "      <th>end_station_id</th>\n",
       "      <th>end_station_name</th>\n",
       "      <th>end_station_latitude</th>\n",
       "      <th>end_station_longitude</th>\n",
       "      <th>bike_id</th>\n",
       "      <th>user_type</th>\n",
       "      <th>member_birth_year</th>\n",
       "      <th>member_gender</th>\n",
       "      <th>bike_share_for_all_trip</th>\n",
       "      <th>duration_min</th>\n",
       "      <th>age_member</th>\n",
       "      <th>age_group</th>\n",
       "    </tr>\n",
       "  </thead>\n",
       "  <tbody>\n",
       "    <tr>\n",
       "      <th>0</th>\n",
       "      <td>598.0</td>\n",
       "      <td>2018-02-28 23:59:47.097</td>\n",
       "      <td>2018-03-01 00:09:45.187</td>\n",
       "      <td>284.0</td>\n",
       "      <td>Yerba Buena Center for the Arts (Howard St at ...</td>\n",
       "      <td>37.784872</td>\n",
       "      <td>-122.400876</td>\n",
       "      <td>114.0</td>\n",
       "      <td>Rhode Island St at 17th St</td>\n",
       "      <td>37.764478</td>\n",
       "      <td>-122.402570</td>\n",
       "      <td>1035.0</td>\n",
       "      <td>Subscriber</td>\n",
       "      <td>1988.0</td>\n",
       "      <td>Male</td>\n",
       "      <td>No</td>\n",
       "      <td>9.966667</td>\n",
       "      <td>32.0</td>\n",
       "      <td>30-40</td>\n",
       "    </tr>\n",
       "    <tr>\n",
       "      <th>1</th>\n",
       "      <td>943.0</td>\n",
       "      <td>2018-02-28 23:21:16.495</td>\n",
       "      <td>2018-02-28 23:36:59.974</td>\n",
       "      <td>6.0</td>\n",
       "      <td>The Embarcadero at Sansome St</td>\n",
       "      <td>37.804770</td>\n",
       "      <td>-122.403234</td>\n",
       "      <td>324.0</td>\n",
       "      <td>Union Square (Powell St at Post St)</td>\n",
       "      <td>37.788300</td>\n",
       "      <td>-122.408531</td>\n",
       "      <td>1673.0</td>\n",
       "      <td>Customer</td>\n",
       "      <td>1987.0</td>\n",
       "      <td>Male</td>\n",
       "      <td>No</td>\n",
       "      <td>15.716667</td>\n",
       "      <td>33.0</td>\n",
       "      <td>30-40</td>\n",
       "    </tr>\n",
       "    <tr>\n",
       "      <th>2</th>\n",
       "      <td>18587.0</td>\n",
       "      <td>2018-02-28 18:20:55.190</td>\n",
       "      <td>2018-02-28 23:30:42.925</td>\n",
       "      <td>93.0</td>\n",
       "      <td>4th St at Mission Bay Blvd S</td>\n",
       "      <td>37.770407</td>\n",
       "      <td>-122.391198</td>\n",
       "      <td>15.0</td>\n",
       "      <td>San Francisco Ferry Building (Harry Bridges Pl...</td>\n",
       "      <td>37.795392</td>\n",
       "      <td>-122.394203</td>\n",
       "      <td>3498.0</td>\n",
       "      <td>Customer</td>\n",
       "      <td>1986.0</td>\n",
       "      <td>Female</td>\n",
       "      <td>No</td>\n",
       "      <td>309.783333</td>\n",
       "      <td>34.0</td>\n",
       "      <td>30-40</td>\n",
       "    </tr>\n",
       "    <tr>\n",
       "      <th>3</th>\n",
       "      <td>18558.0</td>\n",
       "      <td>2018-02-28 18:20:53.621</td>\n",
       "      <td>2018-02-28 23:30:12.450</td>\n",
       "      <td>93.0</td>\n",
       "      <td>4th St at Mission Bay Blvd S</td>\n",
       "      <td>37.770407</td>\n",
       "      <td>-122.391198</td>\n",
       "      <td>15.0</td>\n",
       "      <td>San Francisco Ferry Building (Harry Bridges Pl...</td>\n",
       "      <td>37.795392</td>\n",
       "      <td>-122.394203</td>\n",
       "      <td>3129.0</td>\n",
       "      <td>Customer</td>\n",
       "      <td>1981.0</td>\n",
       "      <td>Male</td>\n",
       "      <td>No</td>\n",
       "      <td>309.300000</td>\n",
       "      <td>39.0</td>\n",
       "      <td>30-40</td>\n",
       "    </tr>\n",
       "    <tr>\n",
       "      <th>4</th>\n",
       "      <td>885.0</td>\n",
       "      <td>2018-02-28 23:15:12.858</td>\n",
       "      <td>2018-02-28 23:29:58.608</td>\n",
       "      <td>308.0</td>\n",
       "      <td>San Pedro Square</td>\n",
       "      <td>37.336802</td>\n",
       "      <td>-121.894090</td>\n",
       "      <td>297.0</td>\n",
       "      <td>Locust St at Grant St</td>\n",
       "      <td>37.322980</td>\n",
       "      <td>-121.887931</td>\n",
       "      <td>1839.0</td>\n",
       "      <td>Subscriber</td>\n",
       "      <td>1976.0</td>\n",
       "      <td>Female</td>\n",
       "      <td>Yes</td>\n",
       "      <td>14.750000</td>\n",
       "      <td>44.0</td>\n",
       "      <td>40-50</td>\n",
       "    </tr>\n",
       "  </tbody>\n",
       "</table>\n",
       "</div>"
      ],
      "text/plain": [
       "   duration_sec              start_time                end_time  \\\n",
       "0         598.0 2018-02-28 23:59:47.097 2018-03-01 00:09:45.187   \n",
       "1         943.0 2018-02-28 23:21:16.495 2018-02-28 23:36:59.974   \n",
       "2       18587.0 2018-02-28 18:20:55.190 2018-02-28 23:30:42.925   \n",
       "3       18558.0 2018-02-28 18:20:53.621 2018-02-28 23:30:12.450   \n",
       "4         885.0 2018-02-28 23:15:12.858 2018-02-28 23:29:58.608   \n",
       "\n",
       "   start_station_id                                 start_station_name  \\\n",
       "0             284.0  Yerba Buena Center for the Arts (Howard St at ...   \n",
       "1               6.0                      The Embarcadero at Sansome St   \n",
       "2              93.0                       4th St at Mission Bay Blvd S   \n",
       "3              93.0                       4th St at Mission Bay Blvd S   \n",
       "4             308.0                                   San Pedro Square   \n",
       "\n",
       "   start_station_latitude  start_station_longitude  end_station_id  \\\n",
       "0               37.784872              -122.400876           114.0   \n",
       "1               37.804770              -122.403234           324.0   \n",
       "2               37.770407              -122.391198            15.0   \n",
       "3               37.770407              -122.391198            15.0   \n",
       "4               37.336802              -121.894090           297.0   \n",
       "\n",
       "                                    end_station_name  end_station_latitude  \\\n",
       "0                         Rhode Island St at 17th St             37.764478   \n",
       "1                Union Square (Powell St at Post St)             37.788300   \n",
       "2  San Francisco Ferry Building (Harry Bridges Pl...             37.795392   \n",
       "3  San Francisco Ferry Building (Harry Bridges Pl...             37.795392   \n",
       "4                              Locust St at Grant St             37.322980   \n",
       "\n",
       "   end_station_longitude  bike_id   user_type  member_birth_year  \\\n",
       "0            -122.402570   1035.0  Subscriber             1988.0   \n",
       "1            -122.408531   1673.0    Customer             1987.0   \n",
       "2            -122.394203   3498.0    Customer             1986.0   \n",
       "3            -122.394203   3129.0    Customer             1981.0   \n",
       "4            -121.887931   1839.0  Subscriber             1976.0   \n",
       "\n",
       "  member_gender bike_share_for_all_trip  duration_min  age_member age_group  \n",
       "0          Male                      No      9.966667        32.0     30-40  \n",
       "1          Male                      No     15.716667        33.0     30-40  \n",
       "2        Female                      No    309.783333        34.0     30-40  \n",
       "3          Male                      No    309.300000        39.0     30-40  \n",
       "4        Female                     Yes     14.750000        44.0     40-50  "
      ]
     },
     "execution_count": 174,
     "metadata": {},
     "output_type": "execute_result"
    }
   ],
   "source": [
    "df_copy.head()"
   ]
  },
  {
   "cell_type": "code",
   "execution_count": 137,
   "metadata": {},
   "outputs": [
    {
     "data": {
      "text/plain": [
       "age_group  member_gender\n",
       "10-20      Female             3180\n",
       "           Male               9547\n",
       "           Other                83\n",
       "20-30      Female           244654\n",
       "           Male             640013\n",
       "           Other             12697\n",
       "30-40      Female           314891\n",
       "           Male             920522\n",
       "           Other             21812\n",
       "40-50      Female           101695\n",
       "           Male             398993\n",
       "           Other              9015\n",
       "50-60      Female            56929\n",
       "           Male             205586\n",
       "           Other              4913\n",
       "Name: duration_sec, dtype: int64"
      ]
     },
     "execution_count": 137,
     "metadata": {},
     "output_type": "execute_result"
    }
   ],
   "source": [
    "df_copy.groupby(['age_group','member_gender']).count()['duration_sec']"
   ]
  },
  {
   "cell_type": "code",
   "execution_count": 158,
   "metadata": {},
   "outputs": [
    {
     "data": {
      "text/html": [
       "<div>\n",
       "<style scoped>\n",
       "    .dataframe tbody tr th:only-of-type {\n",
       "        vertical-align: middle;\n",
       "    }\n",
       "\n",
       "    .dataframe tbody tr th {\n",
       "        vertical-align: top;\n",
       "    }\n",
       "\n",
       "    .dataframe thead th {\n",
       "        text-align: right;\n",
       "    }\n",
       "</style>\n",
       "<table border=\"1\" class=\"dataframe\">\n",
       "  <thead>\n",
       "    <tr style=\"text-align: right;\">\n",
       "      <th></th>\n",
       "      <th>age_group</th>\n",
       "      <th>member_gender</th>\n",
       "      <th>count</th>\n",
       "    </tr>\n",
       "  </thead>\n",
       "  <tbody>\n",
       "    <tr>\n",
       "      <th>0</th>\n",
       "      <td>10-20</td>\n",
       "      <td>Female</td>\n",
       "      <td>3180</td>\n",
       "    </tr>\n",
       "    <tr>\n",
       "      <th>1</th>\n",
       "      <td>10-20</td>\n",
       "      <td>Male</td>\n",
       "      <td>9547</td>\n",
       "    </tr>\n",
       "    <tr>\n",
       "      <th>2</th>\n",
       "      <td>10-20</td>\n",
       "      <td>Other</td>\n",
       "      <td>83</td>\n",
       "    </tr>\n",
       "    <tr>\n",
       "      <th>3</th>\n",
       "      <td>20-30</td>\n",
       "      <td>Female</td>\n",
       "      <td>244654</td>\n",
       "    </tr>\n",
       "    <tr>\n",
       "      <th>4</th>\n",
       "      <td>20-30</td>\n",
       "      <td>Male</td>\n",
       "      <td>640013</td>\n",
       "    </tr>\n",
       "    <tr>\n",
       "      <th>5</th>\n",
       "      <td>20-30</td>\n",
       "      <td>Other</td>\n",
       "      <td>12697</td>\n",
       "    </tr>\n",
       "    <tr>\n",
       "      <th>6</th>\n",
       "      <td>30-40</td>\n",
       "      <td>Female</td>\n",
       "      <td>314891</td>\n",
       "    </tr>\n",
       "    <tr>\n",
       "      <th>7</th>\n",
       "      <td>30-40</td>\n",
       "      <td>Male</td>\n",
       "      <td>920522</td>\n",
       "    </tr>\n",
       "    <tr>\n",
       "      <th>8</th>\n",
       "      <td>30-40</td>\n",
       "      <td>Other</td>\n",
       "      <td>21812</td>\n",
       "    </tr>\n",
       "    <tr>\n",
       "      <th>9</th>\n",
       "      <td>40-50</td>\n",
       "      <td>Female</td>\n",
       "      <td>101695</td>\n",
       "    </tr>\n",
       "    <tr>\n",
       "      <th>10</th>\n",
       "      <td>40-50</td>\n",
       "      <td>Male</td>\n",
       "      <td>398993</td>\n",
       "    </tr>\n",
       "    <tr>\n",
       "      <th>11</th>\n",
       "      <td>40-50</td>\n",
       "      <td>Other</td>\n",
       "      <td>9015</td>\n",
       "    </tr>\n",
       "    <tr>\n",
       "      <th>12</th>\n",
       "      <td>50-60</td>\n",
       "      <td>Female</td>\n",
       "      <td>56929</td>\n",
       "    </tr>\n",
       "    <tr>\n",
       "      <th>13</th>\n",
       "      <td>50-60</td>\n",
       "      <td>Male</td>\n",
       "      <td>205586</td>\n",
       "    </tr>\n",
       "    <tr>\n",
       "      <th>14</th>\n",
       "      <td>50-60</td>\n",
       "      <td>Other</td>\n",
       "      <td>4913</td>\n",
       "    </tr>\n",
       "  </tbody>\n",
       "</table>\n",
       "</div>"
      ],
      "text/plain": [
       "   age_group member_gender   count\n",
       "0      10-20        Female    3180\n",
       "1      10-20          Male    9547\n",
       "2      10-20         Other      83\n",
       "3      20-30        Female  244654\n",
       "4      20-30          Male  640013\n",
       "5      20-30         Other   12697\n",
       "6      30-40        Female  314891\n",
       "7      30-40          Male  920522\n",
       "8      30-40         Other   21812\n",
       "9      40-50        Female  101695\n",
       "10     40-50          Male  398993\n",
       "11     40-50         Other    9015\n",
       "12     50-60        Female   56929\n",
       "13     50-60          Male  205586\n",
       "14     50-60         Other    4913"
      ]
     },
     "execution_count": 158,
     "metadata": {},
     "output_type": "execute_result"
    }
   ],
   "source": [
    "age_gender = df_copy.groupby(['age_group','member_gender']).size().reset_index(name='count')\n",
    "age_gender"
   ]
  },
  {
   "cell_type": "code",
   "execution_count": 140,
   "metadata": {},
   "outputs": [
    {
     "data": {
      "text/html": [
       "<div>\n",
       "<style scoped>\n",
       "    .dataframe tbody tr th:only-of-type {\n",
       "        vertical-align: middle;\n",
       "    }\n",
       "\n",
       "    .dataframe tbody tr th {\n",
       "        vertical-align: top;\n",
       "    }\n",
       "\n",
       "    .dataframe thead th {\n",
       "        text-align: right;\n",
       "    }\n",
       "</style>\n",
       "<table border=\"1\" class=\"dataframe\">\n",
       "  <thead>\n",
       "    <tr style=\"text-align: right;\">\n",
       "      <th>member_gender</th>\n",
       "      <th>Female</th>\n",
       "      <th>Male</th>\n",
       "      <th>Other</th>\n",
       "    </tr>\n",
       "    <tr>\n",
       "      <th>age_group</th>\n",
       "      <th></th>\n",
       "      <th></th>\n",
       "      <th></th>\n",
       "    </tr>\n",
       "  </thead>\n",
       "  <tbody>\n",
       "    <tr>\n",
       "      <th>10-20</th>\n",
       "      <td>3180</td>\n",
       "      <td>9547</td>\n",
       "      <td>83</td>\n",
       "    </tr>\n",
       "    <tr>\n",
       "      <th>20-30</th>\n",
       "      <td>244654</td>\n",
       "      <td>640013</td>\n",
       "      <td>12697</td>\n",
       "    </tr>\n",
       "    <tr>\n",
       "      <th>30-40</th>\n",
       "      <td>314891</td>\n",
       "      <td>920522</td>\n",
       "      <td>21812</td>\n",
       "    </tr>\n",
       "    <tr>\n",
       "      <th>40-50</th>\n",
       "      <td>101695</td>\n",
       "      <td>398993</td>\n",
       "      <td>9015</td>\n",
       "    </tr>\n",
       "    <tr>\n",
       "      <th>50-60</th>\n",
       "      <td>56929</td>\n",
       "      <td>205586</td>\n",
       "      <td>4913</td>\n",
       "    </tr>\n",
       "  </tbody>\n",
       "</table>\n",
       "</div>"
      ],
      "text/plain": [
       "member_gender  Female    Male  Other\n",
       "age_group                           \n",
       "10-20            3180    9547     83\n",
       "20-30          244654  640013  12697\n",
       "30-40          314891  920522  21812\n",
       "40-50          101695  398993   9015\n",
       "50-60           56929  205586   4913"
      ]
     },
     "execution_count": 140,
     "metadata": {},
     "output_type": "execute_result"
    }
   ],
   "source": [
    "age_gender = age_gender.pivot(index = 'age_group', columns = 'member_gender', values='count')\n",
    "age_gender"
   ]
  },
  {
   "cell_type": "code",
   "execution_count": 184,
   "metadata": {},
   "outputs": [
    {
     "data": {
      "image/png": "[encoded data removed]",
      "text/plain": [
       "<Figure size 1440x720 with 1 Axes>"
      ]
     },
     "metadata": {
      "needs_background": "light"
     },
     "output_type": "display_data"
    }
   ],
   "source": [
    "plt.figure(figsize =(20, 10))\n",
    "\n",
    "sb.countplot(data = df_copy, x = 'age_group' , hue = 'member_gender', palette = 'Blues')\n",
    "plt.legend(loc='right upper', prop={'size': 20})\n",
    "plt.xlabel('Age Group', labelpad=10, fontsize = 15)\n",
    "plt.ylabel('Count', labelpad=10, fontsize = 15)\n",
    "plt.title('Gender in Different Age Group',fontsize = 15)\n",
    "plt.savefig('Age_gender.png');"
   ]
  },
  {
   "cell_type": "markdown",
   "metadata": {},
   "source": [
    "### 3. How is the market growing?\n"
   ]
  },
  {
   "cell_type": "code",
   "execution_count": 175,
   "metadata": {},
   "outputs": [
    {
     "data": {
      "text/plain": [
       "Index(['19-03', '19-04', '18-10', '18-07', '19-01', '18-06', '18-08', '18-09',\n",
       "       '19-02', '18-05', '18-11', '18-12', '18-04', '18-03', '18-02', '17-10',\n",
       "       '18-01', '17-11', '17-09', '17-12', '17-08', '17-07', '17-06'],\n",
       "      dtype='object')"
      ]
     },
     "execution_count": 175,
     "metadata": {},
     "output_type": "execute_result"
    }
   ],
   "source": [
    "df_copy['start_time_month'] = df_copy['start_time'].dt.strftime('%y' + '-' + '%m')\n",
    "df_copy.start_time_month.value_counts().index"
   ]
  },
  {
   "cell_type": "code",
   "execution_count": 176,
   "metadata": {},
   "outputs": [
    {
     "data": {
      "text/html": [
       "<div>\n",
       "<style scoped>\n",
       "    .dataframe tbody tr th:only-of-type {\n",
       "        vertical-align: middle;\n",
       "    }\n",
       "\n",
       "    .dataframe tbody tr th {\n",
       "        vertical-align: top;\n",
       "    }\n",
       "\n",
       "    .dataframe thead th {\n",
       "        text-align: right;\n",
       "    }\n",
       "</style>\n",
       "<table border=\"1\" class=\"dataframe\">\n",
       "  <thead>\n",
       "    <tr style=\"text-align: right;\">\n",
       "      <th></th>\n",
       "      <th>start_time_month</th>\n",
       "      <th>user_type</th>\n",
       "      <th>count</th>\n",
       "    </tr>\n",
       "  </thead>\n",
       "  <tbody>\n",
       "    <tr>\n",
       "      <th>0</th>\n",
       "      <td>17-06</td>\n",
       "      <td>Customer</td>\n",
       "      <td>147</td>\n",
       "    </tr>\n",
       "    <tr>\n",
       "      <th>1</th>\n",
       "      <td>17-06</td>\n",
       "      <td>Subscriber</td>\n",
       "      <td>2085</td>\n",
       "    </tr>\n",
       "    <tr>\n",
       "      <th>2</th>\n",
       "      <td>17-07</td>\n",
       "      <td>Customer</td>\n",
       "      <td>4701</td>\n",
       "    </tr>\n",
       "    <tr>\n",
       "      <th>3</th>\n",
       "      <td>17-07</td>\n",
       "      <td>Subscriber</td>\n",
       "      <td>29394</td>\n",
       "    </tr>\n",
       "    <tr>\n",
       "      <th>4</th>\n",
       "      <td>17-08</td>\n",
       "      <td>Customer</td>\n",
       "      <td>8796</td>\n",
       "    </tr>\n",
       "    <tr>\n",
       "      <th>5</th>\n",
       "      <td>17-08</td>\n",
       "      <td>Subscriber</td>\n",
       "      <td>57855</td>\n",
       "    </tr>\n",
       "    <tr>\n",
       "      <th>6</th>\n",
       "      <td>17-09</td>\n",
       "      <td>Customer</td>\n",
       "      <td>10954</td>\n",
       "    </tr>\n",
       "    <tr>\n",
       "      <th>7</th>\n",
       "      <td>17-09</td>\n",
       "      <td>Subscriber</td>\n",
       "      <td>71185</td>\n",
       "    </tr>\n",
       "    <tr>\n",
       "      <th>8</th>\n",
       "      <td>17-10</td>\n",
       "      <td>Customer</td>\n",
       "      <td>8857</td>\n",
       "    </tr>\n",
       "    <tr>\n",
       "      <th>9</th>\n",
       "      <td>17-10</td>\n",
       "      <td>Subscriber</td>\n",
       "      <td>82490</td>\n",
       "    </tr>\n",
       "    <tr>\n",
       "      <th>10</th>\n",
       "      <td>17-11</td>\n",
       "      <td>Customer</td>\n",
       "      <td>8197</td>\n",
       "    </tr>\n",
       "    <tr>\n",
       "      <th>11</th>\n",
       "      <td>17-11</td>\n",
       "      <td>Subscriber</td>\n",
       "      <td>74481</td>\n",
       "    </tr>\n",
       "    <tr>\n",
       "      <th>12</th>\n",
       "      <td>17-12</td>\n",
       "      <td>Customer</td>\n",
       "      <td>6121</td>\n",
       "    </tr>\n",
       "    <tr>\n",
       "      <th>13</th>\n",
       "      <td>17-12</td>\n",
       "      <td>Subscriber</td>\n",
       "      <td>68687</td>\n",
       "    </tr>\n",
       "    <tr>\n",
       "      <th>14</th>\n",
       "      <td>18-01</td>\n",
       "      <td>Customer</td>\n",
       "      <td>6173</td>\n",
       "    </tr>\n",
       "    <tr>\n",
       "      <th>15</th>\n",
       "      <td>18-01</td>\n",
       "      <td>Subscriber</td>\n",
       "      <td>77062</td>\n",
       "    </tr>\n",
       "    <tr>\n",
       "      <th>16</th>\n",
       "      <td>18-02</td>\n",
       "      <td>Customer</td>\n",
       "      <td>8585</td>\n",
       "    </tr>\n",
       "    <tr>\n",
       "      <th>17</th>\n",
       "      <td>18-02</td>\n",
       "      <td>Subscriber</td>\n",
       "      <td>85967</td>\n",
       "    </tr>\n",
       "    <tr>\n",
       "      <th>18</th>\n",
       "      <td>18-03</td>\n",
       "      <td>Customer</td>\n",
       "      <td>9244</td>\n",
       "    </tr>\n",
       "    <tr>\n",
       "      <th>19</th>\n",
       "      <td>18-03</td>\n",
       "      <td>Subscriber</td>\n",
       "      <td>89299</td>\n",
       "    </tr>\n",
       "    <tr>\n",
       "      <th>20</th>\n",
       "      <td>18-04</td>\n",
       "      <td>Customer</td>\n",
       "      <td>13710</td>\n",
       "    </tr>\n",
       "    <tr>\n",
       "      <th>21</th>\n",
       "      <td>18-04</td>\n",
       "      <td>Subscriber</td>\n",
       "      <td>103853</td>\n",
       "    </tr>\n",
       "    <tr>\n",
       "      <th>22</th>\n",
       "      <td>18-05</td>\n",
       "      <td>Customer</td>\n",
       "      <td>20193</td>\n",
       "    </tr>\n",
       "    <tr>\n",
       "      <th>23</th>\n",
       "      <td>18-05</td>\n",
       "      <td>Subscriber</td>\n",
       "      <td>141614</td>\n",
       "    </tr>\n",
       "    <tr>\n",
       "      <th>24</th>\n",
       "      <td>18-06</td>\n",
       "      <td>Customer</td>\n",
       "      <td>23516</td>\n",
       "    </tr>\n",
       "    <tr>\n",
       "      <th>25</th>\n",
       "      <td>18-06</td>\n",
       "      <td>Subscriber</td>\n",
       "      <td>154146</td>\n",
       "    </tr>\n",
       "    <tr>\n",
       "      <th>26</th>\n",
       "      <td>18-07</td>\n",
       "      <td>Customer</td>\n",
       "      <td>25371</td>\n",
       "    </tr>\n",
       "    <tr>\n",
       "      <th>27</th>\n",
       "      <td>18-07</td>\n",
       "      <td>Subscriber</td>\n",
       "      <td>156321</td>\n",
       "    </tr>\n",
       "    <tr>\n",
       "      <th>28</th>\n",
       "      <td>18-08</td>\n",
       "      <td>Customer</td>\n",
       "      <td>23166</td>\n",
       "    </tr>\n",
       "    <tr>\n",
       "      <th>29</th>\n",
       "      <td>18-08</td>\n",
       "      <td>Subscriber</td>\n",
       "      <td>153029</td>\n",
       "    </tr>\n",
       "    <tr>\n",
       "      <th>30</th>\n",
       "      <td>18-09</td>\n",
       "      <td>Customer</td>\n",
       "      <td>22994</td>\n",
       "    </tr>\n",
       "    <tr>\n",
       "      <th>31</th>\n",
       "      <td>18-09</td>\n",
       "      <td>Subscriber</td>\n",
       "      <td>148832</td>\n",
       "    </tr>\n",
       "    <tr>\n",
       "      <th>32</th>\n",
       "      <td>18-10</td>\n",
       "      <td>Customer</td>\n",
       "      <td>20324</td>\n",
       "    </tr>\n",
       "    <tr>\n",
       "      <th>33</th>\n",
       "      <td>18-10</td>\n",
       "      <td>Subscriber</td>\n",
       "      <td>167628</td>\n",
       "    </tr>\n",
       "    <tr>\n",
       "      <th>34</th>\n",
       "      <td>18-11</td>\n",
       "      <td>Customer</td>\n",
       "      <td>11884</td>\n",
       "    </tr>\n",
       "    <tr>\n",
       "      <th>35</th>\n",
       "      <td>18-11</td>\n",
       "      <td>Subscriber</td>\n",
       "      <td>113527</td>\n",
       "    </tr>\n",
       "    <tr>\n",
       "      <th>36</th>\n",
       "      <td>18-12</td>\n",
       "      <td>Customer</td>\n",
       "      <td>13656</td>\n",
       "    </tr>\n",
       "    <tr>\n",
       "      <th>37</th>\n",
       "      <td>18-12</td>\n",
       "      <td>Subscriber</td>\n",
       "      <td>109126</td>\n",
       "    </tr>\n",
       "    <tr>\n",
       "      <th>38</th>\n",
       "      <td>19-01</td>\n",
       "      <td>Customer</td>\n",
       "      <td>17593</td>\n",
       "    </tr>\n",
       "    <tr>\n",
       "      <th>39</th>\n",
       "      <td>19-01</td>\n",
       "      <td>Subscriber</td>\n",
       "      <td>160364</td>\n",
       "    </tr>\n",
       "    <tr>\n",
       "      <th>40</th>\n",
       "      <td>19-02</td>\n",
       "      <td>Customer</td>\n",
       "      <td>16375</td>\n",
       "    </tr>\n",
       "    <tr>\n",
       "      <th>41</th>\n",
       "      <td>19-02</td>\n",
       "      <td>Subscriber</td>\n",
       "      <td>154618</td>\n",
       "    </tr>\n",
       "    <tr>\n",
       "      <th>42</th>\n",
       "      <td>19-03</td>\n",
       "      <td>Customer</td>\n",
       "      <td>30566</td>\n",
       "    </tr>\n",
       "    <tr>\n",
       "      <th>43</th>\n",
       "      <td>19-03</td>\n",
       "      <td>Subscriber</td>\n",
       "      <td>208761</td>\n",
       "    </tr>\n",
       "    <tr>\n",
       "      <th>44</th>\n",
       "      <td>19-04</td>\n",
       "      <td>Customer</td>\n",
       "      <td>28985</td>\n",
       "    </tr>\n",
       "    <tr>\n",
       "      <th>45</th>\n",
       "      <td>19-04</td>\n",
       "      <td>Subscriber</td>\n",
       "      <td>194098</td>\n",
       "    </tr>\n",
       "  </tbody>\n",
       "</table>\n",
       "</div>"
      ],
      "text/plain": [
       "   start_time_month   user_type   count\n",
       "0             17-06    Customer     147\n",
       "1             17-06  Subscriber    2085\n",
       "2             17-07    Customer    4701\n",
       "3             17-07  Subscriber   29394\n",
       "4             17-08    Customer    8796\n",
       "5             17-08  Subscriber   57855\n",
       "6             17-09    Customer   10954\n",
       "7             17-09  Subscriber   71185\n",
       "8             17-10    Customer    8857\n",
       "9             17-10  Subscriber   82490\n",
       "10            17-11    Customer    8197\n",
       "11            17-11  Subscriber   74481\n",
       "12            17-12    Customer    6121\n",
       "13            17-12  Subscriber   68687\n",
       "14            18-01    Customer    6173\n",
       "15            18-01  Subscriber   77062\n",
       "16            18-02    Customer    8585\n",
       "17            18-02  Subscriber   85967\n",
       "18            18-03    Customer    9244\n",
       "19            18-03  Subscriber   89299\n",
       "20            18-04    Customer   13710\n",
       "21            18-04  Subscriber  103853\n",
       "22            18-05    Customer   20193\n",
       "23            18-05  Subscriber  141614\n",
       "24            18-06    Customer   23516\n",
       "25            18-06  Subscriber  154146\n",
       "26            18-07    Customer   25371\n",
       "27            18-07  Subscriber  156321\n",
       "28            18-08    Customer   23166\n",
       "29            18-08  Subscriber  153029\n",
       "30            18-09    Customer   22994\n",
       "31            18-09  Subscriber  148832\n",
       "32            18-10    Customer   20324\n",
       "33            18-10  Subscriber  167628\n",
       "34            18-11    Customer   11884\n",
       "35            18-11  Subscriber  113527\n",
       "36            18-12    Customer   13656\n",
       "37            18-12  Subscriber  109126\n",
       "38            19-01    Customer   17593\n",
       "39            19-01  Subscriber  160364\n",
       "40            19-02    Customer   16375\n",
       "41            19-02  Subscriber  154618\n",
       "42            19-03    Customer   30566\n",
       "43            19-03  Subscriber  208761\n",
       "44            19-04    Customer   28985\n",
       "45            19-04  Subscriber  194098"
      ]
     },
     "execution_count": 176,
     "metadata": {},
     "output_type": "execute_result"
    }
   ],
   "source": [
    "#transform subset in the df_copy into new series and to df w/ adding index\n",
    "month_user_type = df_copy.groupby(['start_time_month','user_type']).size().reset_index(name='count')\n",
    "month_user_type"
   ]
  },
  {
   "cell_type": "code",
   "execution_count": 181,
   "metadata": {},
   "outputs": [
    {
     "data": {
      "text/plain": [
       "Subscriber    2604422\n",
       "Customer       340108\n",
       "Name: user_type, dtype: int64"
      ]
     },
     "execution_count": 181,
     "metadata": {},
     "output_type": "execute_result"
    }
   ],
   "source": [
    "df_copy.user_type.value_counts()"
   ]
  },
  {
   "cell_type": "code",
   "execution_count": 185,
   "metadata": {},
   "outputs": [
    {
     "data": {
      "image/png": "[encoded data removed]",
      "text/plain": [
       "<Figure size 1440x720 with 1 Axes>"
      ]
     },
     "metadata": {
      "needs_background": "light"
     },
     "output_type": "display_data"
    }
   ],
   "source": [
    "plt.figure(figsize =(20, 10))\n",
    "\n",
    "sb.pointplot(data = month_user_type, x='start_time_month', y='count', hue ='user_type', scale = 1)\n",
    "plt.xlabel('Month', fontsize = 13)\n",
    "plt.ylabel('Count', fontsize = 13)\n",
    "plt.title('Market growing based on month for different user type',fontsize = 15)\n",
    "plt.legend(prop={'size': 15} ,loc='upper left');\n",
    "plt.savefig('Marketgrowth.png');"
   ]
  },
  {
   "cell_type": "code",
   "execution_count": 186,
   "metadata": {},
   "outputs": [],
   "source": [
    "df_copy.to_csv('df_copy.csv', index=False)"
   ]
  },
  {
   "cell_type": "code",
   "execution_count": null,
   "metadata": {},
   "outputs": [],
   "source": []
  }
 ],
 "metadata": {
  "kernelspec": {
   "display_name": "Python 3",
   "language": "python",
   "name": "python3"
  },
  "language_info": {
   "codemirror_mode": {
    "name": "ipython",
    "version": 3
   },
   "file_extension": ".py",
   "mimetype": "text/x-python",
   "name": "python",
   "nbconvert_exporter": "python",
   "pygments_lexer": "ipython3",
   "version": "3.7.4"
  }
 },
 "nbformat": 4,
 "nbformat_minor": 2
}
