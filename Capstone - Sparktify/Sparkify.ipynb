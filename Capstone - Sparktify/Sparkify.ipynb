{
 "cells": [
  {
   "cell_type": "markdown",
   "metadata": {},
   "source": [
    "# Sparkify - Analyze Subset Dataset\n",
    "This workspace contains a tiny subset (128MB) of the full dataset available (12GB). This workspace explores a smaller subset with Spark before deploying your cluster on the cloud. "
   ]
  },
  {
   "cell_type": "code",
   "execution_count": 6,
   "metadata": {},
   "outputs": [],
   "source": [
    "import numpy as np\n",
    "import pandas as pd\n",
    "import matplotlib.pyplot as plt\n",
    "import seaborn as sb\n",
    "import datetime\n",
    "\n",
    "# pyspark APIs\n",
    "from pyspark.sql import SparkSession\n",
    "\n",
    "from pyspark.sql.functions import avg, count, max, min, round, sum, udf, desc, isnan, countDistinct, when, col, trim\n",
    "from pyspark.sql.types import IntegerType, FloatType\n",
    "\n",
    "from pyspark.ml import Pipeline\n",
    "from pyspark.ml.classification import LogisticRegression,RandomForestClassifier, GBTClassifier\n",
    "from pyspark.ml.evaluation import MulticlassClassificationEvaluator\n",
    "from pyspark.ml.regression import LinearRegression\n",
    "from pyspark.ml.feature import StandardScaler, VectorAssembler\n",
    "from pyspark.ml.tuning import CrossValidator, ParamGridBuilder\n",
    "\n",
    "from pyspark.ml.feature import OneHotEncoder, StringIndexer, MinMaxScaler, VectorAssembler\n",
    "from sklearn.metrics import confusion_matrix\n",
    "\n",
    "import warnings\n",
    "\n",
    "warnings.filterwarnings('ignore')\n",
    "%matplotlib inline"
   ]
  },
  {
   "cell_type": "code",
   "execution_count": 7,
   "metadata": {},
   "outputs": [],
   "source": [
    "# create a Spark session\n",
    "spark = (SparkSession.builder \n",
    "                    .master(\"local\") \n",
    "                    .appName(\"sparkify\") \n",
    "                    .getOrCreate())"
   ]
  },
  {
   "cell_type": "markdown",
   "metadata": {},
   "source": [
    "# Load and Clean Dataset\n",
    "In this workspace, the mini-dataset file is `mini_sparkify_event_data.json`. Here the dataset is loaded and cleaned, checking for invalid or missing data - for example, records without userids or sessionids. "
   ]
  },
  {
   "cell_type": "code",
   "execution_count": 8,
   "metadata": {},
   "outputs": [
    {
     "data": {
      "text/plain": [
       "DataFrame[artist: string, auth: string, firstName: string, gender: string, itemInSession: bigint, lastName: string, length: double, level: string, location: string, method: string, page: string, registration: bigint, sessionId: bigint, song: string, status: bigint, ts: bigint, userAgent: string, userId: string]"
      ]
     },
     "execution_count": 8,
     "metadata": {},
     "output_type": "execute_result"
    }
   ],
   "source": [
    "events_df = spark.read.json('mini_sparkify_event_data.json')\n",
    "events_df"
   ]
  },
  {
   "cell_type": "code",
   "execution_count": 9,
   "metadata": {},
   "outputs": [
    {
     "name": "stdout",
     "output_type": "stream",
     "text": [
      "root\n",
      " |-- artist: string (nullable = true)\n",
      " |-- auth: string (nullable = true)\n",
      " |-- firstName: string (nullable = true)\n",
      " |-- gender: string (nullable = true)\n",
      " |-- itemInSession: long (nullable = true)\n",
      " |-- lastName: string (nullable = true)\n",
      " |-- length: double (nullable = true)\n",
      " |-- level: string (nullable = true)\n",
      " |-- location: string (nullable = true)\n",
      " |-- method: string (nullable = true)\n",
      " |-- page: string (nullable = true)\n",
      " |-- registration: long (nullable = true)\n",
      " |-- sessionId: long (nullable = true)\n",
      " |-- song: string (nullable = true)\n",
      " |-- status: long (nullable = true)\n",
      " |-- ts: long (nullable = true)\n",
      " |-- userAgent: string (nullable = true)\n",
      " |-- userId: string (nullable = true)\n",
      "\n"
     ]
    }
   ],
   "source": [
    "events_df.printSchema()"
   ]
  },
  {
   "cell_type": "code",
   "execution_count": 10,
   "metadata": {},
   "outputs": [
    {
     "name": "stdout",
     "output_type": "stream",
     "text": [
      "(286500, 18)\n"
     ]
    }
   ],
   "source": [
    "print((events_df.count(), len(events_df.columns)))"
   ]
  },
  {
   "cell_type": "code",
   "execution_count": 11,
   "metadata": {
    "scrolled": true
   },
   "outputs": [
    {
     "name": "stdout",
     "output_type": "stream",
     "text": [
      "+------+----+---------+------+-------------+--------+------+-----+--------+------+----+------------+---------+----+------+---+---------+------+\n",
      "|artist|auth|firstName|gender|itemInSession|lastName|length|level|location|method|page|registration|sessionId|song|status| ts|userAgent|userId|\n",
      "+------+----+---------+------+-------------+--------+------+-----+--------+------+----+------------+---------+----+------+---+---------+------+\n",
      "|     0|   0|        0|     0|            0|       0|     0|    0|       0|     0|   0|           0|        0|   0|     0|  0|        0|     0|\n",
      "+------+----+---------+------+-------------+--------+------+-----+--------+------+----+------------+---------+----+------+---+---------+------+\n",
      "\n"
     ]
    }
   ],
   "source": [
    "events_df.select([count(when(isnan(c), c)).alias(c) for c in events_df.columns]).show()"
   ]
  },
  {
   "cell_type": "markdown",
   "metadata": {},
   "source": [
    "- Drop cells for 'userId','sessionId' that have null"
   ]
  },
  {
   "cell_type": "code",
   "execution_count": 12,
   "metadata": {},
   "outputs": [],
   "source": [
    "events_df = events_df.dropna(how = 'any', subset = ['userId', 'sessionId'])"
   ]
  },
  {
   "cell_type": "code",
   "execution_count": 13,
   "metadata": {},
   "outputs": [
    {
     "data": {
      "text/plain": [
       "286500"
      ]
     },
     "execution_count": 13,
     "metadata": {},
     "output_type": "execute_result"
    }
   ],
   "source": [
    "events_df.count()"
   ]
  },
  {
   "cell_type": "markdown",
   "metadata": {},
   "source": [
    "- No null in the datasets, how about the empty string for the columns?"
   ]
  },
  {
   "cell_type": "code",
   "execution_count": 14,
   "metadata": {},
   "outputs": [
    {
     "data": {
      "text/plain": [
       "0"
      ]
     },
     "execution_count": 14,
     "metadata": {},
     "output_type": "execute_result"
    }
   ],
   "source": [
    "events_df.filter((events_df['sessionId'] == '') | events_df['sessionId'].isNull() | isnan(events_df['sessionId'])).count()"
   ]
  },
  {
   "cell_type": "code",
   "execution_count": 15,
   "metadata": {},
   "outputs": [
    {
     "data": {
      "text/plain": [
       "8346"
      ]
     },
     "execution_count": 15,
     "metadata": {},
     "output_type": "execute_result"
    }
   ],
   "source": [
    "events_df.filter((events_df['userId'] == '') | events_df['userId'].isNull() | isnan(events_df['userId'])).count()"
   ]
  },
  {
   "cell_type": "code",
   "execution_count": 16,
   "metadata": {},
   "outputs": [
    {
     "name": "stdout",
     "output_type": "stream",
     "text": [
      "+------+\n",
      "|userId|\n",
      "+------+\n",
      "|      |\n",
      "|    10|\n",
      "|   100|\n",
      "|100001|\n",
      "|100002|\n",
      "|100003|\n",
      "|100004|\n",
      "|100005|\n",
      "|100006|\n",
      "|100007|\n",
      "|100008|\n",
      "|100009|\n",
      "|100010|\n",
      "|100011|\n",
      "|100012|\n",
      "|100013|\n",
      "|100014|\n",
      "|100015|\n",
      "|100016|\n",
      "|100017|\n",
      "+------+\n",
      "only showing top 20 rows\n",
      "\n"
     ]
    }
   ],
   "source": [
    "events_df.select('userId').dropDuplicates().sort('userId').show()"
   ]
  },
  {
   "cell_type": "markdown",
   "metadata": {},
   "source": [
    "- By checking out the userid column, we can confirm that there seems contain value of empty string\n",
    "- Let's filter them out"
   ]
  },
  {
   "cell_type": "code",
   "execution_count": 163,
   "metadata": {},
   "outputs": [],
   "source": [
    "df = events_df"
   ]
  },
  {
   "cell_type": "code",
   "execution_count": 44,
   "metadata": {},
   "outputs": [
    {
     "name": "stdout",
     "output_type": "stream",
     "text": [
      "+------+---------+---------+------+-------------+--------+------+-----+--------------------+------+--------------------+-------------+---------+----+------+-------------+--------------------+------+\n",
      "|artist|     auth|firstName|gender|itemInSession|lastName|length|level|            location|method|                page| registration|sessionId|song|status|           ts|           userAgent|userId|\n",
      "+------+---------+---------+------+-------------+--------+------+-----+--------------------+------+--------------------+-------------+---------+----+------+-------------+--------------------+------+\n",
      "|  null|Cancelled|   Adriel|     M|          104| Mendoza|  null| paid|  Kansas City, MO-KS|   GET|Cancellation Conf...|1535623466000|      514|null|   200|1538943990000|\"Mozilla/5.0 (Mac...|    18|\n",
      "|  null|Cancelled|    Diego|     M|           56|   Mckee|  null| paid|Phoenix-Mesa-Scot...|   GET|Cancellation Conf...|1537167593000|      540|null|   200|1539033046000|\"Mozilla/5.0 (iPh...|    32|\n",
      "|  null|Cancelled|    Mason|     M|           10|    Hart|  null| free|  Corpus Christi, TX|   GET|Cancellation Conf...|1533157139000|      174|null|   200|1539318918000|\"Mozilla/5.0 (Mac...|   125|\n",
      "|  null|Cancelled|Alexander|     M|          332|  Garcia|  null| paid|Indianapolis-Carm...|   GET|Cancellation Conf...|1536817381000|      508|null|   200|1539375441000|Mozilla/5.0 (Wind...|   105|\n",
      "|  null|Cancelled|    Kayla|     F|          273| Johnson|  null| paid|Philadelphia-Camd...|   GET|Cancellation Conf...|1538333829000|      797|null|   200|1539465584000|Mozilla/5.0 (Wind...|    17|\n",
      "+------+---------+---------+------+-------------+--------+------+-----+--------------------+------+--------------------+-------------+---------+----+------+-------------+--------------------+------+\n",
      "only showing top 5 rows\n",
      "\n"
     ]
    }
   ],
   "source": [
    "df.filter('page = \"Cancellation Confirmation\"').show(5)"
   ]
  },
  {
   "cell_type": "code",
   "execution_count": 164,
   "metadata": {},
   "outputs": [],
   "source": [
    "def drop_missing(column,df=df):\n",
    "    missing_count = df.filter((df[column] == '') | df[column].isNull() | isnan(df[column])).count()\n",
    "    print('missing count:', missing_count)\n",
    "    df = df.filter(df[column].isNotNull())\n",
    "    df = df.filter(df[column] != '')\n",
    "#     df = df.na.drop()\n",
    "#     print(df.count())\n",
    "    print('Done cleaning!')\n",
    "    return df"
   ]
  },
  {
   "cell_type": "code",
   "execution_count": 165,
   "metadata": {},
   "outputs": [
    {
     "name": "stdout",
     "output_type": "stream",
     "text": [
      "missing count: 8346\n",
      "Done cleaning!\n"
     ]
    }
   ],
   "source": [
    "df = drop_missing('userId')"
   ]
  },
  {
   "cell_type": "code",
   "execution_count": 166,
   "metadata": {},
   "outputs": [
    {
     "data": {
      "text/plain": [
       "278154"
      ]
     },
     "execution_count": 166,
     "metadata": {},
     "output_type": "execute_result"
    }
   ],
   "source": [
    "df.count()"
   ]
  },
  {
   "cell_type": "markdown",
   "metadata": {},
   "source": [
    "- Finally, the datasets is 278154 rows and 18 columns"
   ]
  },
  {
   "cell_type": "markdown",
   "metadata": {},
   "source": [
    "# Exploratory Data Analysis\n",
    "Perform EDA by loading a small subset of the data and doing basic manipulations within Spark."
   ]
  },
  {
   "cell_type": "code",
   "execution_count": 23,
   "metadata": {},
   "outputs": [
    {
     "data": {
      "text/html": [
       "<div>\n",
       "<style scoped>\n",
       "    .dataframe tbody tr th:only-of-type {\n",
       "        vertical-align: middle;\n",
       "    }\n",
       "\n",
       "    .dataframe tbody tr th {\n",
       "        vertical-align: top;\n",
       "    }\n",
       "\n",
       "    .dataframe thead th {\n",
       "        text-align: right;\n",
       "    }\n",
       "</style>\n",
       "<table border=\"1\" class=\"dataframe\">\n",
       "  <thead>\n",
       "    <tr style=\"text-align: right;\">\n",
       "      <th></th>\n",
       "      <th>summary</th>\n",
       "      <th>artist</th>\n",
       "      <th>auth</th>\n",
       "      <th>firstName</th>\n",
       "      <th>gender</th>\n",
       "      <th>itemInSession</th>\n",
       "      <th>lastName</th>\n",
       "      <th>length</th>\n",
       "      <th>level</th>\n",
       "      <th>location</th>\n",
       "      <th>method</th>\n",
       "      <th>page</th>\n",
       "      <th>registration</th>\n",
       "      <th>sessionId</th>\n",
       "      <th>song</th>\n",
       "      <th>status</th>\n",
       "      <th>ts</th>\n",
       "      <th>userAgent</th>\n",
       "      <th>userId</th>\n",
       "    </tr>\n",
       "  </thead>\n",
       "  <tbody>\n",
       "    <tr>\n",
       "      <th>0</th>\n",
       "      <td>count</td>\n",
       "      <td>228108</td>\n",
       "      <td>278154</td>\n",
       "      <td>278154</td>\n",
       "      <td>278154</td>\n",
       "      <td>278154</td>\n",
       "      <td>278154</td>\n",
       "      <td>228108</td>\n",
       "      <td>278154</td>\n",
       "      <td>278154</td>\n",
       "      <td>278154</td>\n",
       "      <td>278154</td>\n",
       "      <td>278154</td>\n",
       "      <td>278154</td>\n",
       "      <td>228108</td>\n",
       "      <td>278154</td>\n",
       "      <td>278154</td>\n",
       "      <td>278154</td>\n",
       "      <td>278154</td>\n",
       "    </tr>\n",
       "    <tr>\n",
       "      <th>1</th>\n",
       "      <td>mean</td>\n",
       "      <td>551.0852017937219</td>\n",
       "      <td>None</td>\n",
       "      <td>None</td>\n",
       "      <td>None</td>\n",
       "      <td>114.89918174824018</td>\n",
       "      <td>None</td>\n",
       "      <td>249.11718197783722</td>\n",
       "      <td>None</td>\n",
       "      <td>None</td>\n",
       "      <td>None</td>\n",
       "      <td>None</td>\n",
       "      <td>1.535358834085557E12</td>\n",
       "      <td>1042.5616241362698</td>\n",
       "      <td>Infinity</td>\n",
       "      <td>209.10321620397335</td>\n",
       "      <td>1.5409589154318577E12</td>\n",
       "      <td>None</td>\n",
       "      <td>59682.02278593872</td>\n",
       "    </tr>\n",
       "    <tr>\n",
       "      <th>2</th>\n",
       "      <td>stddev</td>\n",
       "      <td>1217.7693079161374</td>\n",
       "      <td>None</td>\n",
       "      <td>None</td>\n",
       "      <td>None</td>\n",
       "      <td>129.85172939949013</td>\n",
       "      <td>None</td>\n",
       "      <td>99.23517921058324</td>\n",
       "      <td>None</td>\n",
       "      <td>None</td>\n",
       "      <td>None</td>\n",
       "      <td>None</td>\n",
       "      <td>3.291321616328068E9</td>\n",
       "      <td>726.5010362219821</td>\n",
       "      <td>NaN</td>\n",
       "      <td>30.151388851327823</td>\n",
       "      <td>1.5068287123347573E9</td>\n",
       "      <td>None</td>\n",
       "      <td>109091.94999910519</td>\n",
       "    </tr>\n",
       "    <tr>\n",
       "      <th>3</th>\n",
       "      <td>min</td>\n",
       "      <td>!!!</td>\n",
       "      <td>Cancelled</td>\n",
       "      <td>Adelaida</td>\n",
       "      <td>F</td>\n",
       "      <td>0</td>\n",
       "      <td>Adams</td>\n",
       "      <td>0.78322</td>\n",
       "      <td>free</td>\n",
       "      <td>Albany, OR</td>\n",
       "      <td>GET</td>\n",
       "      <td>About</td>\n",
       "      <td>1521380675000</td>\n",
       "      <td>1</td>\n",
       "      <td>ÃÂg ÃÂtti GrÃÂ¡a ÃÂsku</td>\n",
       "      <td>200</td>\n",
       "      <td>1538352117000</td>\n",
       "      <td>\"Mozilla/5.0 (Macintosh; Intel Mac OS X 10_10)...</td>\n",
       "      <td>10</td>\n",
       "    </tr>\n",
       "    <tr>\n",
       "      <th>4</th>\n",
       "      <td>max</td>\n",
       "      <td>ÃÂlafur Arnalds</td>\n",
       "      <td>Logged In</td>\n",
       "      <td>Zyonna</td>\n",
       "      <td>M</td>\n",
       "      <td>1321</td>\n",
       "      <td>Wright</td>\n",
       "      <td>3024.66567</td>\n",
       "      <td>paid</td>\n",
       "      <td>Winston-Salem, NC</td>\n",
       "      <td>PUT</td>\n",
       "      <td>Upgrade</td>\n",
       "      <td>1543247354000</td>\n",
       "      <td>2474</td>\n",
       "      <td>ÃÂau hafa sloppiÃÂ° undan ÃÂ¾unga myrkursins</td>\n",
       "      <td>404</td>\n",
       "      <td>1543799476000</td>\n",
       "      <td>Mozilla/5.0 (compatible; MSIE 9.0; Windows NT ...</td>\n",
       "      <td>99</td>\n",
       "    </tr>\n",
       "  </tbody>\n",
       "</table>\n",
       "</div>"
      ],
      "text/plain": [
       "  summary              artist       auth firstName  gender  \\\n",
       "0   count              228108     278154    278154  278154   \n",
       "1    mean   551.0852017937219       None      None    None   \n",
       "2  stddev  1217.7693079161374       None      None    None   \n",
       "3     min                 !!!  Cancelled  Adelaida       F   \n",
       "4     max   ÃÂlafur Arnalds  Logged In    Zyonna       M   \n",
       "\n",
       "        itemInSession lastName              length   level           location  \\\n",
       "0              278154   278154              228108  278154             278154   \n",
       "1  114.89918174824018     None  249.11718197783722    None               None   \n",
       "2  129.85172939949013     None   99.23517921058324    None               None   \n",
       "3                   0    Adams             0.78322    free         Albany, OR   \n",
       "4                1321   Wright          3024.66567    paid  Winston-Salem, NC   \n",
       "\n",
       "   method     page          registration           sessionId  \\\n",
       "0  278154   278154                278154              278154   \n",
       "1    None     None  1.535358834085557E12  1042.5616241362698   \n",
       "2    None     None   3.291321616328068E9   726.5010362219821   \n",
       "3     GET    About         1521380675000                   1   \n",
       "4     PUT  Upgrade         1543247354000                2474   \n",
       "\n",
       "                                               song              status  \\\n",
       "0                                            228108              278154   \n",
       "1                                          Infinity  209.10321620397335   \n",
       "2                                               NaN  30.151388851327823   \n",
       "3                    \n",
       "ÃÂg ÃÂtti GrÃÂ¡a ÃÂsku                 200   \n",
       "4  ÃÂau hafa sloppiÃÂ° undan ÃÂ¾unga myrkursins                 404   \n",
       "\n",
       "                      ts                                          userAgent  \\\n",
       "0                 278154                                             278154   \n",
       "1  1.5409589154318577E12                                               None   \n",
       "2   1.5068287123347573E9                                               None   \n",
       "3          1538352117000  \"Mozilla/5.0 (Macintosh; Intel Mac OS X 10_10)...   \n",
       "4          1543799476000  Mozilla/5.0 (compatible; MSIE 9.0; Windows NT ...   \n",
       "\n",
       "               userId  \n",
       "0              278154  \n",
       "1   59682.02278593872  \n",
       "2  109091.94999910519  \n",
       "3                  10  \n",
       "4                  99  "
      ]
     },
     "execution_count": 23,
     "metadata": {},
     "output_type": "execute_result"
    }
   ],
   "source": [
    "df.describe().toPandas()"
   ]
  },
  {
   "cell_type": "markdown",
   "metadata": {},
   "source": [
    "- Anyone who visit the cancellation page cancelled the subscription with Sparkify, which is churn that we are interested in. \n",
    "- Let's take a look into it. "
   ]
  },
  {
   "cell_type": "code",
   "execution_count": 24,
   "metadata": {},
   "outputs": [
    {
     "name": "stdout",
     "output_type": "stream",
     "text": [
      "+--------------------+\n",
      "|                page|\n",
      "+--------------------+\n",
      "|               About|\n",
      "|          Add Friend|\n",
      "|     Add to Playlist|\n",
      "|              Cancel|\n",
      "|Cancellation Conf...|\n",
      "|           Downgrade|\n",
      "|               Error|\n",
      "|                Help|\n",
      "|                Home|\n",
      "|               Login|\n",
      "|              Logout|\n",
      "|            NextSong|\n",
      "|            Register|\n",
      "|         Roll Advert|\n",
      "|       Save Settings|\n",
      "|            Settings|\n",
      "|    Submit Downgrade|\n",
      "| Submit Registration|\n",
      "|      Submit Upgrade|\n",
      "|         Thumbs Down|\n",
      "+--------------------+\n",
      "only showing top 20 rows\n",
      "\n"
     ]
    }
   ],
   "source": [
    "events_df.select('page').drop_duplicates().sort('page').show()"
   ]
  },
  {
   "cell_type": "code",
   "execution_count": 25,
   "metadata": {},
   "outputs": [
    {
     "data": {
      "text/html": [
       "<div>\n",
       "<style scoped>\n",
       "    .dataframe tbody tr th:only-of-type {\n",
       "        vertical-align: middle;\n",
       "    }\n",
       "\n",
       "    .dataframe tbody tr th {\n",
       "        vertical-align: top;\n",
       "    }\n",
       "\n",
       "    .dataframe thead th {\n",
       "        text-align: right;\n",
       "    }\n",
       "</style>\n",
       "<table border=\"1\" class=\"dataframe\">\n",
       "  <thead>\n",
       "    <tr style=\"text-align: right;\">\n",
       "      <th></th>\n",
       "      <th>page</th>\n",
       "      <th>count</th>\n",
       "    </tr>\n",
       "  </thead>\n",
       "  <tbody>\n",
       "    <tr>\n",
       "      <th>0</th>\n",
       "      <td>NextSong</td>\n",
       "      <td>228108</td>\n",
       "    </tr>\n",
       "    <tr>\n",
       "      <th>1</th>\n",
       "      <td>Home</td>\n",
       "      <td>14457</td>\n",
       "    </tr>\n",
       "    <tr>\n",
       "      <th>2</th>\n",
       "      <td>Thumbs Up</td>\n",
       "      <td>12551</td>\n",
       "    </tr>\n",
       "    <tr>\n",
       "      <th>3</th>\n",
       "      <td>Add to Playlist</td>\n",
       "      <td>6526</td>\n",
       "    </tr>\n",
       "    <tr>\n",
       "      <th>4</th>\n",
       "      <td>Add Friend</td>\n",
       "      <td>4277</td>\n",
       "    </tr>\n",
       "    <tr>\n",
       "      <th>5</th>\n",
       "      <td>Roll Advert</td>\n",
       "      <td>3933</td>\n",
       "    </tr>\n",
       "    <tr>\n",
       "      <th>6</th>\n",
       "      <td>Login</td>\n",
       "      <td>3241</td>\n",
       "    </tr>\n",
       "    <tr>\n",
       "      <th>7</th>\n",
       "      <td>Logout</td>\n",
       "      <td>3226</td>\n",
       "    </tr>\n",
       "    <tr>\n",
       "      <th>8</th>\n",
       "      <td>Thumbs Down</td>\n",
       "      <td>2546</td>\n",
       "    </tr>\n",
       "    <tr>\n",
       "      <th>9</th>\n",
       "      <td>Downgrade</td>\n",
       "      <td>2055</td>\n",
       "    </tr>\n",
       "    <tr>\n",
       "      <th>10</th>\n",
       "      <td>Help</td>\n",
       "      <td>1726</td>\n",
       "    </tr>\n",
       "    <tr>\n",
       "      <th>11</th>\n",
       "      <td>Settings</td>\n",
       "      <td>1514</td>\n",
       "    </tr>\n",
       "    <tr>\n",
       "      <th>12</th>\n",
       "      <td>About</td>\n",
       "      <td>924</td>\n",
       "    </tr>\n",
       "    <tr>\n",
       "      <th>13</th>\n",
       "      <td>Upgrade</td>\n",
       "      <td>499</td>\n",
       "    </tr>\n",
       "    <tr>\n",
       "      <th>14</th>\n",
       "      <td>Save Settings</td>\n",
       "      <td>310</td>\n",
       "    </tr>\n",
       "    <tr>\n",
       "      <th>15</th>\n",
       "      <td>Error</td>\n",
       "      <td>258</td>\n",
       "    </tr>\n",
       "    <tr>\n",
       "      <th>16</th>\n",
       "      <td>Submit Upgrade</td>\n",
       "      <td>159</td>\n",
       "    </tr>\n",
       "    <tr>\n",
       "      <th>17</th>\n",
       "      <td>Submit Downgrade</td>\n",
       "      <td>63</td>\n",
       "    </tr>\n",
       "    <tr>\n",
       "      <th>18</th>\n",
       "      <td>Cancel</td>\n",
       "      <td>52</td>\n",
       "    </tr>\n",
       "    <tr>\n",
       "      <th>19</th>\n",
       "      <td>Cancellation Confirmation</td>\n",
       "      <td>52</td>\n",
       "    </tr>\n",
       "    <tr>\n",
       "      <th>20</th>\n",
       "      <td>Register</td>\n",
       "      <td>18</td>\n",
       "    </tr>\n",
       "    <tr>\n",
       "      <th>21</th>\n",
       "      <td>Submit Registration</td>\n",
       "      <td>5</td>\n",
       "    </tr>\n",
       "  </tbody>\n",
       "</table>\n",
       "</div>"
      ],
      "text/plain": [
       "                         page   count\n",
       "0                    NextSong  228108\n",
       "1                        Home   14457\n",
       "2                   Thumbs Up   12551\n",
       "3             Add to Playlist    6526\n",
       "4                  Add Friend    4277\n",
       "5                 Roll Advert    3933\n",
       "6                       Login    3241\n",
       "7                      Logout    3226\n",
       "8                 Thumbs Down    2546\n",
       "9                   Downgrade    2055\n",
       "10                       Help    1726\n",
       "11                   Settings    1514\n",
       "12                      About     924\n",
       "13                    Upgrade     499\n",
       "14              Save Settings     310\n",
       "15                      Error     258\n",
       "16             Submit Upgrade     159\n",
       "17           Submit Downgrade      63\n",
       "18                     Cancel      52\n",
       "19  Cancellation Confirmation      52\n",
       "20                   Register      18\n",
       "21        Submit Registration       5"
      ]
     },
     "execution_count": 25,
     "metadata": {},
     "output_type": "execute_result"
    }
   ],
   "source": [
    "events_df.select('page').groupby('page').count().orderBy(desc('count')).toPandas()"
   ]
  },
  {
   "cell_type": "code",
   "execution_count": 26,
   "metadata": {},
   "outputs": [
    {
     "data": {
      "text/html": [
       "<div>\n",
       "<style scoped>\n",
       "    .dataframe tbody tr th:only-of-type {\n",
       "        vertical-align: middle;\n",
       "    }\n",
       "\n",
       "    .dataframe tbody tr th {\n",
       "        vertical-align: top;\n",
       "    }\n",
       "\n",
       "    .dataframe thead th {\n",
       "        text-align: right;\n",
       "    }\n",
       "</style>\n",
       "<table border=\"1\" class=\"dataframe\">\n",
       "  <thead>\n",
       "    <tr style=\"text-align: right;\">\n",
       "      <th></th>\n",
       "      <th>auth</th>\n",
       "      <th>count</th>\n",
       "    </tr>\n",
       "  </thead>\n",
       "  <tbody>\n",
       "    <tr>\n",
       "      <th>0</th>\n",
       "      <td>Logged In</td>\n",
       "      <td>278102</td>\n",
       "    </tr>\n",
       "    <tr>\n",
       "      <th>1</th>\n",
       "      <td>Logged Out</td>\n",
       "      <td>8249</td>\n",
       "    </tr>\n",
       "    <tr>\n",
       "      <th>2</th>\n",
       "      <td>Guest</td>\n",
       "      <td>97</td>\n",
       "    </tr>\n",
       "    <tr>\n",
       "      <th>3</th>\n",
       "      <td>Cancelled</td>\n",
       "      <td>52</td>\n",
       "    </tr>\n",
       "  </tbody>\n",
       "</table>\n",
       "</div>"
      ],
      "text/plain": [
       "         auth   count\n",
       "0   Logged In  278102\n",
       "1  Logged Out    8249\n",
       "2       Guest      97\n",
       "3   Cancelled      52"
      ]
     },
     "execution_count": 26,
     "metadata": {},
     "output_type": "execute_result"
    }
   ],
   "source": [
    "events_df.select('auth').groupby('auth').count().orderBy(desc('count')).toPandas()"
   ]
  },
  {
   "cell_type": "markdown",
   "metadata": {},
   "source": [
    "### Define Churn\n",
    "\n",
    "Once done some preliminary analysis, create a column `Churn` to use as the label for the model. `Cancellation Confirmation` events using to define your churn, which happen for both paid and free users. (a bonus task, you can also look into the `Downgrade` events.)"
   ]
  },
  {
   "cell_type": "markdown",
   "metadata": {},
   "source": [
    "- We are also interested in the user ids before and after certain event. \n",
    "- For example, let's look into the user ids of cancellation process and create a column for it"
   ]
  },
  {
   "cell_type": "code",
   "execution_count": 48,
   "metadata": {},
   "outputs": [
    {
     "name": "stdout",
     "output_type": "stream",
     "text": [
      "+------+---------+---------+------+-------------+--------+------+-----+--------------------+------+--------------------+-------------+---------+----+------+-------------+--------------------+------+\n",
      "|artist|     auth|firstName|gender|itemInSession|lastName|length|level|            location|method|                page| registration|sessionId|song|status|           ts|           userAgent|userId|\n",
      "+------+---------+---------+------+-------------+--------+------+-----+--------------------+------+--------------------+-------------+---------+----+------+-------------+--------------------+------+\n",
      "|  null|Cancelled|   Adriel|     M|          104| Mendoza|  null| paid|  Kansas City, MO-KS|   GET|Cancellation Conf...|1535623466000|      514|null|   200|1538943990000|\"Mozilla/5.0 (Mac...|    18|\n",
      "|  null|Cancelled|    Diego|     M|           56|   Mckee|  null| paid|Phoenix-Mesa-Scot...|   GET|Cancellation Conf...|1537167593000|      540|null|   200|1539033046000|\"Mozilla/5.0 (iPh...|    32|\n",
      "|  null|Cancelled|    Mason|     M|           10|    Hart|  null| free|  Corpus Christi, TX|   GET|Cancellation Conf...|1533157139000|      174|null|   200|1539318918000|\"Mozilla/5.0 (Mac...|   125|\n",
      "|  null|Cancelled|Alexander|     M|          332|  Garcia|  null| paid|Indianapolis-Carm...|   GET|Cancellation Conf...|1536817381000|      508|null|   200|1539375441000|Mozilla/5.0 (Wind...|   105|\n",
      "|  null|Cancelled|    Kayla|     F|          273| Johnson|  null| paid|Philadelphia-Camd...|   GET|Cancellation Conf...|1538333829000|      797|null|   200|1539465584000|Mozilla/5.0 (Wind...|    17|\n",
      "+------+---------+---------+------+-------------+--------+------+-----+--------------------+------+--------------------+-------------+---------+----+------+-------------+--------------------+------+\n",
      "only showing top 5 rows\n",
      "\n"
     ]
    }
   ],
   "source": [
    "df.filter('page = \"Cancellation Confirmation\"').show(5)"
   ]
  },
  {
   "cell_type": "code",
   "execution_count": 167,
   "metadata": {},
   "outputs": [],
   "source": [
    "flag_cancell_event = udf(lambda x: 1 if x == 'Cancellation Confirmation' else 0, IntegerType())"
   ]
  },
  {
   "cell_type": "code",
   "execution_count": 168,
   "metadata": {},
   "outputs": [],
   "source": [
    "df = df.withColumn('Churn', flag_cancell_event('page'))  # create a new column indicating the user has churned"
   ]
  },
  {
   "cell_type": "code",
   "execution_count": 169,
   "metadata": {},
   "outputs": [
    {
     "data": {
      "text/plain": [
       "Row(artist='Martha Tilston', auth='Logged In', firstName='Colin', gender='M', itemInSession=50, lastName='Freeman', length=277.89016, level='paid', location='Bakersfield, CA', method='PUT', page='NextSong', registration=1538173362000, sessionId=29, song='Rockpools', status=200, ts=1538352117000, userAgent='Mozilla/5.0 (Windows NT 6.1; WOW64; rv:31.0) Gecko/20100101 Firefox/31.0', userId='30', Churn=0)"
      ]
     },
     "execution_count": 169,
     "metadata": {},
     "output_type": "execute_result"
    }
   ],
   "source": [
    "df.head()"
   ]
  },
  {
   "cell_type": "markdown",
   "metadata": {},
   "source": [
    "### Explore Data\n",
    "perform some exploratory data analysis to observe the behavior for users who stayed vs users who churned. You can start by exploring aggregates on these two groups of users, observing how much of a specific action they experienced per a certain time unit or number of songs played."
   ]
  },
  {
   "cell_type": "markdown",
   "metadata": {},
   "source": [
    "#### 1. How many songs the users (churn/not churn) listening in the particular hour "
   ]
  },
  {
   "cell_type": "code",
   "execution_count": 170,
   "metadata": {},
   "outputs": [],
   "source": [
    "get_hour = udf(lambda x: datetime.datetime.fromtimestamp(x / 1000.0). hour)"
   ]
  },
  {
   "cell_type": "code",
   "execution_count": 171,
   "metadata": {},
   "outputs": [],
   "source": [
    "df = df.withColumn('hour', get_hour(df.ts))"
   ]
  },
  {
   "cell_type": "code",
   "execution_count": 55,
   "metadata": {},
   "outputs": [
    {
     "data": {
      "text/plain": [
       "[Row(artist='Martha Tilston', auth='Logged In', firstName='Colin', gender='M', itemInSession=50, lastName='Freeman', length=277.89016, level='paid', location='Bakersfield, CA', method='PUT', page='NextSong', registration=1538173362000, sessionId=29, song='Rockpools', status=200, ts=1538352117000, userAgent='Mozilla/5.0 (Windows NT 6.1; WOW64; rv:31.0) Gecko/20100101 Firefox/31.0', userId='30', Churn=0, hour='20'),\n",
       " Row(artist='Five Iron Frenzy', auth='Logged In', firstName='Micah', gender='M', itemInSession=79, lastName='Long', length=236.09424, level='free', location='Boston-Cambridge-Newton, MA-NH', method='PUT', page='NextSong', registration=1538331630000, sessionId=8, song='Canada', status=200, ts=1538352180000, userAgent='\"Mozilla/5.0 (Windows NT 6.1; WOW64) AppleWebKit/537.36 (KHTML, like Gecko) Chrome/37.0.2062.103 Safari/537.36\"', userId='9', Churn=0, hour='20'),\n",
       " Row(artist='Adam Lambert', auth='Logged In', firstName='Colin', gender='M', itemInSession=51, lastName='Freeman', length=282.8273, level='paid', location='Bakersfield, CA', method='PUT', page='NextSong', registration=1538173362000, sessionId=29, song='Time For Miracles', status=200, ts=1538352394000, userAgent='Mozilla/5.0 (Windows NT 6.1; WOW64; rv:31.0) Gecko/20100101 Firefox/31.0', userId='30', Churn=0, hour='20'),\n",
       " Row(artist='Enigma', auth='Logged In', firstName='Micah', gender='M', itemInSession=80, lastName='Long', length=262.71302, level='free', location='Boston-Cambridge-Newton, MA-NH', method='PUT', page='NextSong', registration=1538331630000, sessionId=8, song='Knocking On Forbidden Doors', status=200, ts=1538352416000, userAgent='\"Mozilla/5.0 (Windows NT 6.1; WOW64) AppleWebKit/537.36 (KHTML, like Gecko) Chrome/37.0.2062.103 Safari/537.36\"', userId='9', Churn=0, hour='20'),\n",
       " Row(artist='Daft Punk', auth='Logged In', firstName='Colin', gender='M', itemInSession=52, lastName='Freeman', length=223.60771, level='paid', location='Bakersfield, CA', method='PUT', page='NextSong', registration=1538173362000, sessionId=29, song='Harder Better Faster Stronger', status=200, ts=1538352676000, userAgent='Mozilla/5.0 (Windows NT 6.1; WOW64; rv:31.0) Gecko/20100101 Firefox/31.0', userId='30', Churn=0, hour='20')]"
      ]
     },
     "execution_count": 55,
     "metadata": {},
     "output_type": "execute_result"
    }
   ],
   "source": [
    "df.head(5)"
   ]
  },
  {
   "cell_type": "code",
   "execution_count": 172,
   "metadata": {},
   "outputs": [
    {
     "name": "stdout",
     "output_type": "stream",
     "text": [
      "+----+-----------+\n",
      "|hour|count(hour)|\n",
      "+----+-----------+\n",
      "|   0|       9983|\n",
      "|   1|       9908|\n",
      "|   2|       9772|\n",
      "|   3|       9911|\n",
      "|   4|      10074|\n",
      "+----+-----------+\n",
      "only showing top 5 rows\n",
      "\n"
     ]
    }
   ],
   "source": [
    "songs_in_hour_0 = df.filter(df.Churn == 0).groupby(df.hour).agg({'hour':'count'}).orderBy(df.hour.cast(\"float\"))\n",
    "songs_in_hour_0.show(5)"
   ]
  },
  {
   "cell_type": "code",
   "execution_count": 173,
   "metadata": {},
   "outputs": [
    {
     "name": "stdout",
     "output_type": "stream",
     "text": [
      "+----+-----------+\n",
      "|hour|count(hour)|\n",
      "+----+-----------+\n",
      "|   0|          2|\n",
      "|   1|          1|\n",
      "|   2|          2|\n",
      "|   3|          5|\n",
      "|   6|          3|\n",
      "+----+-----------+\n",
      "only showing top 5 rows\n",
      "\n"
     ]
    }
   ],
   "source": [
    "#songs_in_hour_1 = df.filter(df.Churn == 1).groupby(df.hour).count().orderBy(df.hour.cast(\"float\"))\n",
    "songs_in_hour_1 = df.filter(df.Churn == 1).groupby(df.hour).agg({'hour':'count'}).orderBy(df.hour.cast(\"float\"))\n",
    "songs_in_hour_1.show(5)"
   ]
  },
  {
   "cell_type": "code",
   "execution_count": 146,
   "metadata": {},
   "outputs": [],
   "source": [
    "#hour_songs = songs_in_hour_1.join(songs_in_hour_0,on=['hour'], how='inner')\n",
    "#hour_songs.show(5)"
   ]
  },
  {
   "cell_type": "code",
   "execution_count": 174,
   "metadata": {},
   "outputs": [
    {
     "name": "stdout",
     "output_type": "stream",
     "text": [
      "    hour  count(hour)\n",
      "0      0         9983\n",
      "1      1         9908\n",
      "2      2         9772\n",
      "3      3         9911\n",
      "4      4        10074\n",
      "5      5        10359\n",
      "6      6        10559\n",
      "7      7        11293\n",
      "8      8        11644\n",
      "9      9        12303\n",
      "10    10        13195\n",
      "11    11        13931\n",
      "12    12        14253\n",
      "13    13        13867\n",
      "14    14        13427\n",
      "15    15        13348\n",
      "16    16        13214\n",
      "17    17        12456\n",
      "18    18        12059\n",
      "19    19        11490\n",
      "20    20        10817\n",
      "21    21        10086\n",
      "22    22        10078\n",
      "23    23        10075\n"
     ]
    }
   ],
   "source": [
    "songs_in_hour_pd_0 = songs_in_hour_0.toPandas()\n",
    "songs_in_hour_pd_0.hour = pd.to_numeric(songs_in_hour_pd_0.hour)\n",
    "print(songs_in_hour_pd_0)"
   ]
  },
  {
   "cell_type": "code",
   "execution_count": 175,
   "metadata": {},
   "outputs": [
    {
     "name": "stdout",
     "output_type": "stream",
     "text": [
      "    hour  count(hour)\n",
      "0      0            2\n",
      "1      1            1\n",
      "2      2            2\n",
      "3      3            5\n",
      "4      6            3\n",
      "5      7            1\n",
      "6      8            1\n",
      "7      9            2\n",
      "8     10            1\n",
      "9     11            5\n",
      "10    12            2\n",
      "11    13            2\n",
      "12    14            5\n",
      "13    15            4\n",
      "14    16            3\n",
      "15    17            3\n",
      "16    18            2\n",
      "17    19            2\n",
      "18    20            2\n",
      "19    21            1\n",
      "20    22            1\n",
      "21    23            2\n"
     ]
    }
   ],
   "source": [
    "songs_in_hour_pd_1 = songs_in_hour_1.toPandas()\n",
    "songs_in_hour_pd_1.hour = pd.to_numeric(songs_in_hour_pd_1.hour)\n",
    "print(songs_in_hour_pd_1)"
   ]
  },
  {
   "cell_type": "code",
   "execution_count": 150,
   "metadata": {},
   "outputs": [
    {
     "data": {
      "image/png": "[encoded data removed]",
      "text/plain": [
       "<Figure size 720x360 with 1 Axes>"
      ]
     },
     "metadata": {
      "needs_background": "light"
     },
     "output_type": "display_data"
    }
   ],
   "source": [
    "plt.figure(figsize =(10,5))\n",
    "\n",
    "churn_0 = plt.scatter(songs_in_hour_pd_0[\"hour\"], songs_in_hour_pd_0[\"count\"])\n",
    "churn_1 = plt.scatter(songs_in_hour_pd_1[\"hour\"], songs_in_hour_pd_1[\"count\"])\n",
    "plt.xlim(-1, 24)\n",
    "plt.ylim(-1, 1.2 * songs_in_hour_pd_0[\"count\"].max())\n",
    "plt.legend((churn_0,churn_1),('Not churn','churn'))\n",
    "plt.xlabel(\"Hour\")\n",
    "plt.ylabel(\"Songs played\");"
   ]
  },
  {
   "cell_type": "markdown",
   "metadata": {},
   "source": [
    "- In this case, we can see not churn users play songs much more than the users who churn."
   ]
  },
  {
   "cell_type": "markdown",
   "metadata": {},
   "source": [
    "#### 2.  Average length of songs played by the users (churn/not churn)"
   ]
  },
  {
   "cell_type": "code",
   "execution_count": 208,
   "metadata": {},
   "outputs": [],
   "source": [
    "def getAvgLen4Group(churnFlag, df = df):\n",
    "    churn_id = df.filter(df.Churn == churnFlag).toPandas()['userId'].values\n",
    "    churn_id_set = set(churn_id)\n",
    "    \n",
    "    df_id_length = df.select(['userid', 'length'])\n",
    "    length = 0\n",
    "    for row in df_id_length.rdd.collect():\n",
    "        if(row.length and row.userid in churn_id_set):\n",
    "             length += row.length\n",
    "\n",
    "    return length / len(churn_id_set)"
   ]
  },
  {
   "cell_type": "code",
   "execution_count": 209,
   "metadata": {},
   "outputs": [
    {
     "data": {
      "text/plain": [
       "174014.26855134717"
      ]
     },
     "execution_count": 209,
     "metadata": {},
     "output_type": "execute_result"
    }
   ],
   "source": [
    "getAvgLen4Group(1)"
   ]
  },
  {
   "cell_type": "code",
   "execution_count": 210,
   "metadata": {},
   "outputs": [
    {
     "data": {
      "text/plain": [
       "252558.32065156646"
      ]
     },
     "execution_count": 210,
     "metadata": {},
     "output_type": "execute_result"
    }
   ],
   "source": [
    "getAvgLen4Group(0)"
   ]
  },
  {
   "cell_type": "code",
   "execution_count": 217,
   "metadata": {},
   "outputs": [
    {
     "data": {
      "text/html": [
       "<div>\n",
       "<style scoped>\n",
       "    .dataframe tbody tr th:only-of-type {\n",
       "        vertical-align: middle;\n",
       "    }\n",
       "\n",
       "    .dataframe tbody tr th {\n",
       "        vertical-align: top;\n",
       "    }\n",
       "\n",
       "    .dataframe thead th {\n",
       "        text-align: right;\n",
       "    }\n",
       "</style>\n",
       "<table border=\"1\" class=\"dataframe\">\n",
       "  <thead>\n",
       "    <tr style=\"text-align: right;\">\n",
       "      <th></th>\n",
       "      <th>churn_type</th>\n",
       "      <th>average_length</th>\n",
       "    </tr>\n",
       "  </thead>\n",
       "  <tbody>\n",
       "    <tr>\n",
       "      <th>0</th>\n",
       "      <td>0</td>\n",
       "      <td>252558.320652</td>\n",
       "    </tr>\n",
       "    <tr>\n",
       "      <th>1</th>\n",
       "      <td>1</td>\n",
       "      <td>174014.268551</td>\n",
       "    </tr>\n",
       "  </tbody>\n",
       "</table>\n",
       "</div>"
      ],
      "text/plain": [
       "   churn_type  average_length\n",
       "0           0   252558.320652\n",
       "1           1   174014.268551"
      ]
     },
     "execution_count": 217,
     "metadata": {},
     "output_type": "execute_result"
    }
   ],
   "source": [
    "data = {'churn_type':[0,1],'average_length':[getAvgLen4Group(0),getAvgLen4Group(1)]}\n",
    "avglen4Group_df = pd.DataFrame(data, columns = ['churn_type','average_length'])\n",
    "avglen4Group_df"
   ]
  },
  {
   "cell_type": "code",
   "execution_count": 228,
   "metadata": {},
   "outputs": [
    {
     "data": {
      "image/png": "[encoded data removed]",
      "text/plain": [
       "<Figure size 720x360 with 1 Axes>"
      ]
     },
     "metadata": {
      "needs_background": "light"
     },
     "output_type": "display_data"
    }
   ],
   "source": [
    "plt.figure(figsize =(10,5))\n",
    "\n",
    "sb.barplot(x = 'churn_type', y='average_length', data=avglen4Group_df);\n",
    "plt.xlabel('Churn', fontsize=14)\n",
    "plt.ylabel('Avg Length of songs played (sec)', fontsize=14);\n",
    "plt.title('Avg Length of songs played by Not Churn / Churn Users', fontsize=14);"
   ]
  },
  {
   "cell_type": "markdown",
   "metadata": {},
   "source": [
    "- For Avg length of listening to the song, the un-churned users are way longer than churned"
   ]
  },
  {
   "cell_type": "markdown",
   "metadata": {},
   "source": [
    "#### 3.  Churn rate VS userAgent used"
   ]
  },
  {
   "cell_type": "code",
   "execution_count": 314,
   "metadata": {},
   "outputs": [],
   "source": [
    "usersys_func = udf(lambda x: x.split('(')[1].replace(\";\", \" \").split(\" \")[0])"
   ]
  },
  {
   "cell_type": "code",
   "execution_count": 312,
   "metadata": {},
   "outputs": [
    {
     "data": {
      "text/plain": [
       "[Row(artist='Martha Tilston', auth='Logged In', firstName='Colin', gender='M', itemInSession=50, lastName='Freeman', length=277.89016, level='paid', location='Bakersfield, CA', method='PUT', page='NextSong', registration=1538173362000, sessionId=29, song='Rockpools', status=200, ts=1538352117000, userAgent='Windows', userId='30', Churn=0, hour='20'),\n",
       " Row(artist='Five Iron Frenzy', auth='Logged In', firstName='Micah', gender='M', itemInSession=79, lastName='Long', length=236.09424, level='free', location='Boston-Cambridge-Newton, MA-NH', method='PUT', page='NextSong', registration=1538331630000, sessionId=8, song='Canada', status=200, ts=1538352180000, userAgent='Windows', userId='9', Churn=0, hour='20')]"
      ]
     },
     "execution_count": 312,
     "metadata": {},
     "output_type": "execute_result"
    }
   ],
   "source": [
    "usersys_df = df.withColumn('userAgent', usersys_func(df['userAgent']))\n",
    "usersys_df.head(2)"
   ]
  },
  {
   "cell_type": "code",
   "execution_count": 459,
   "metadata": {},
   "outputs": [],
   "source": [
    "useragent_churn_df = usersys_df.select(['userId', 'userAgent', 'churn']).dropDuplicates()\\\n",
    "            .groupBy('userAgent').agg(count('userId').alias('num_users'), sum('churn').alias('num_churns'))"
   ]
  },
  {
   "cell_type": "code",
   "execution_count": 466,
   "metadata": {},
   "outputs": [
    {
     "data": {
      "text/html": [
       "<div>\n",
       "<style scoped>\n",
       "    .dataframe tbody tr th:only-of-type {\n",
       "        vertical-align: middle;\n",
       "    }\n",
       "\n",
       "    .dataframe tbody tr th {\n",
       "        vertical-align: top;\n",
       "    }\n",
       "\n",
       "    .dataframe thead th {\n",
       "        text-align: right;\n",
       "    }\n",
       "</style>\n",
       "<table border=\"1\" class=\"dataframe\">\n",
       "  <thead>\n",
       "    <tr style=\"text-align: right;\">\n",
       "      <th></th>\n",
       "      <th>userAgent</th>\n",
       "      <th>num_users</th>\n",
       "      <th>num_churns</th>\n",
       "    </tr>\n",
       "  </thead>\n",
       "  <tbody>\n",
       "    <tr>\n",
       "      <th>0</th>\n",
       "      <td>iPad</td>\n",
       "      <td>3</td>\n",
       "      <td>0</td>\n",
       "    </tr>\n",
       "    <tr>\n",
       "      <th>1</th>\n",
       "      <td>X11</td>\n",
       "      <td>17</td>\n",
       "      <td>5</td>\n",
       "    </tr>\n",
       "    <tr>\n",
       "      <th>2</th>\n",
       "      <td>iPhone</td>\n",
       "      <td>17</td>\n",
       "      <td>4</td>\n",
       "    </tr>\n",
       "    <tr>\n",
       "      <th>3</th>\n",
       "      <td>Macintosh</td>\n",
       "      <td>105</td>\n",
       "      <td>19</td>\n",
       "    </tr>\n",
       "    <tr>\n",
       "      <th>4</th>\n",
       "      <td>compatible</td>\n",
       "      <td>5</td>\n",
       "      <td>0</td>\n",
       "    </tr>\n",
       "    <tr>\n",
       "      <th>5</th>\n",
       "      <td>Windows</td>\n",
       "      <td>130</td>\n",
       "      <td>24</td>\n",
       "    </tr>\n",
       "  </tbody>\n",
       "</table>\n",
       "</div>"
      ],
      "text/plain": [
       "    userAgent  num_users  num_churns\n",
       "0        iPad          3           0\n",
       "1         X11         17           5\n",
       "2      iPhone         17           4\n",
       "3   Macintosh        105          19\n",
       "4  compatible          5           0\n",
       "5     Windows        130          24"
      ]
     },
     "execution_count": 466,
     "metadata": {},
     "output_type": "execute_result"
    }
   ],
   "source": [
    "useragent_churn_df_pd = useragent_churn_df.toPandas()\n",
    "useragent_churn_df_pd"
   ]
  },
  {
   "cell_type": "code",
   "execution_count": 462,
   "metadata": {},
   "outputs": [
    {
     "data": {
      "image/png": "[encoded data removed]",
      "text/plain": [
       "<Figure size 720x288 with 1 Axes>"
      ]
     },
     "metadata": {
      "needs_background": "light"
     },
     "output_type": "display_data"
    }
   ],
   "source": [
    "plt.figure(figsize=(10,4))\n",
    "plt.bar(useragent_churn_df_pd['userAgent'], useragent_churn_df_pd['num_churns'] / useragent_churn_df_pd['num_users'])\n",
    "\n",
    "plt.xlabel(\"UserAgent\", fontsize=14)\n",
    "plt.ylabel(\"Churn rate\", fontsize=14)\n",
    "plt.xticks(fontsize=14)\n",
    "plt.yticks(fontsize=14)\n",
    "plt.title(\"Churn rate vs. UserAgent\", fontsize=14);"
   ]
  },
  {
   "cell_type": "markdown",
   "metadata": {},
   "source": [
    "- We can see from the figure above that X11 have the most churn rate, also the iphone, \n",
    "- The agent service can take a look into those to improve the customer experience specificly"
   ]
  },
  {
   "cell_type": "code",
   "execution_count": 467,
   "metadata": {},
   "outputs": [],
   "source": [
    "#from collections import defaultdict\n",
    "#churn_useragent_dic = defaultdict(int)\n",
    "#useragent_churn_pd_df = useragent_churn_df.toPandas()\n",
    "\n",
    "#for i in useragent_churn_df.collect():\n",
    "#    agent = i.userAgent\n",
    "#    total_users = useragent_churn_pd_df.query('userAgent == @agent')['count(userId)'].sum()\n",
    "#     churned_users = useragent_churn_pd_df.query('userAgent == @agent').query('Churn == 1').iloc[0,2]\n",
    "#     print(churned_users / total_users)\n",
    "    "
   ]
  },
  {
   "cell_type": "markdown",
   "metadata": {},
   "source": [
    "#### 4."
   ]
  },
  {
   "cell_type": "code",
   "execution_count": 282,
   "metadata": {},
   "outputs": [],
   "source": [
    "useid_page_df = df.groupby(['userId']).pivot('page').count().toPandas().fillna(0)"
   ]
  },
  {
   "cell_type": "code",
   "execution_count": 283,
   "metadata": {},
   "outputs": [
    {
     "data": {
      "text/html": [
       "<div>\n",
       "<style scoped>\n",
       "    .dataframe tbody tr th:only-of-type {\n",
       "        vertical-align: middle;\n",
       "    }\n",
       "\n",
       "    .dataframe tbody tr th {\n",
       "        vertical-align: top;\n",
       "    }\n",
       "\n",
       "    .dataframe thead th {\n",
       "        text-align: right;\n",
       "    }\n",
       "</style>\n",
       "<table border=\"1\" class=\"dataframe\">\n",
       "  <thead>\n",
       "    <tr style=\"text-align: right;\">\n",
       "      <th></th>\n",
       "      <th>userId</th>\n",
       "      <th>About</th>\n",
       "      <th>Add Friend</th>\n",
       "      <th>Add to Playlist</th>\n",
       "      <th>Cancel</th>\n",
       "      <th>Churn</th>\n",
       "      <th>Downgrade</th>\n",
       "      <th>Error</th>\n",
       "      <th>Help</th>\n",
       "      <th>Home</th>\n",
       "      <th>Logout</th>\n",
       "      <th>NextSong</th>\n",
       "      <th>Roll Advert</th>\n",
       "      <th>Save Settings</th>\n",
       "      <th>Settings</th>\n",
       "      <th>Submit Downgrade</th>\n",
       "      <th>Submit Upgrade</th>\n",
       "      <th>Thumbs Down</th>\n",
       "      <th>Thumbs Up</th>\n",
       "      <th>Upgrade</th>\n",
       "    </tr>\n",
       "  </thead>\n",
       "  <tbody>\n",
       "    <tr>\n",
       "      <th>0</th>\n",
       "      <td>200002</td>\n",
       "      <td>3.0</td>\n",
       "      <td>4.0</td>\n",
       "      <td>8.0</td>\n",
       "      <td>0.0</td>\n",
       "      <td>0.0</td>\n",
       "      <td>5.0</td>\n",
       "      <td>0.0</td>\n",
       "      <td>2.0</td>\n",
       "      <td>20.0</td>\n",
       "      <td>5.0</td>\n",
       "      <td>387</td>\n",
       "      <td>7.0</td>\n",
       "      <td>0.0</td>\n",
       "      <td>3.0</td>\n",
       "      <td>0.0</td>\n",
       "      <td>1.0</td>\n",
       "      <td>6.0</td>\n",
       "      <td>21.0</td>\n",
       "      <td>2.0</td>\n",
       "    </tr>\n",
       "    <tr>\n",
       "      <th>1</th>\n",
       "      <td>100010</td>\n",
       "      <td>1.0</td>\n",
       "      <td>4.0</td>\n",
       "      <td>7.0</td>\n",
       "      <td>0.0</td>\n",
       "      <td>0.0</td>\n",
       "      <td>0.0</td>\n",
       "      <td>0.0</td>\n",
       "      <td>2.0</td>\n",
       "      <td>11.0</td>\n",
       "      <td>5.0</td>\n",
       "      <td>275</td>\n",
       "      <td>52.0</td>\n",
       "      <td>0.0</td>\n",
       "      <td>0.0</td>\n",
       "      <td>0.0</td>\n",
       "      <td>0.0</td>\n",
       "      <td>5.0</td>\n",
       "      <td>17.0</td>\n",
       "      <td>2.0</td>\n",
       "    </tr>\n",
       "    <tr>\n",
       "      <th>2</th>\n",
       "      <td>125</td>\n",
       "      <td>0.0</td>\n",
       "      <td>0.0</td>\n",
       "      <td>0.0</td>\n",
       "      <td>1.0</td>\n",
       "      <td>1.0</td>\n",
       "      <td>0.0</td>\n",
       "      <td>0.0</td>\n",
       "      <td>0.0</td>\n",
       "      <td>0.0</td>\n",
       "      <td>0.0</td>\n",
       "      <td>8</td>\n",
       "      <td>1.0</td>\n",
       "      <td>0.0</td>\n",
       "      <td>0.0</td>\n",
       "      <td>0.0</td>\n",
       "      <td>0.0</td>\n",
       "      <td>0.0</td>\n",
       "      <td>0.0</td>\n",
       "      <td>0.0</td>\n",
       "    </tr>\n",
       "    <tr>\n",
       "      <th>3</th>\n",
       "      <td>51</td>\n",
       "      <td>2.0</td>\n",
       "      <td>28.0</td>\n",
       "      <td>52.0</td>\n",
       "      <td>1.0</td>\n",
       "      <td>1.0</td>\n",
       "      <td>23.0</td>\n",
       "      <td>1.0</td>\n",
       "      <td>12.0</td>\n",
       "      <td>75.0</td>\n",
       "      <td>24.0</td>\n",
       "      <td>2111</td>\n",
       "      <td>0.0</td>\n",
       "      <td>1.0</td>\n",
       "      <td>12.0</td>\n",
       "      <td>0.0</td>\n",
       "      <td>0.0</td>\n",
       "      <td>21.0</td>\n",
       "      <td>100.0</td>\n",
       "      <td>0.0</td>\n",
       "    </tr>\n",
       "    <tr>\n",
       "      <th>4</th>\n",
       "      <td>124</td>\n",
       "      <td>7.0</td>\n",
       "      <td>74.0</td>\n",
       "      <td>118.0</td>\n",
       "      <td>0.0</td>\n",
       "      <td>0.0</td>\n",
       "      <td>41.0</td>\n",
       "      <td>6.0</td>\n",
       "      <td>23.0</td>\n",
       "      <td>176.0</td>\n",
       "      <td>59.0</td>\n",
       "      <td>4079</td>\n",
       "      <td>4.0</td>\n",
       "      <td>6.0</td>\n",
       "      <td>20.0</td>\n",
       "      <td>0.0</td>\n",
       "      <td>0.0</td>\n",
       "      <td>41.0</td>\n",
       "      <td>171.0</td>\n",
       "      <td>0.0</td>\n",
       "    </tr>\n",
       "    <tr>\n",
       "      <th>...</th>\n",
       "      <td>...</td>\n",
       "      <td>...</td>\n",
       "      <td>...</td>\n",
       "      <td>...</td>\n",
       "      <td>...</td>\n",
       "      <td>...</td>\n",
       "      <td>...</td>\n",
       "      <td>...</td>\n",
       "      <td>...</td>\n",
       "      <td>...</td>\n",
       "      <td>...</td>\n",
       "      <td>...</td>\n",
       "      <td>...</td>\n",
       "      <td>...</td>\n",
       "      <td>...</td>\n",
       "      <td>...</td>\n",
       "      <td>...</td>\n",
       "      <td>...</td>\n",
       "      <td>...</td>\n",
       "      <td>...</td>\n",
       "    </tr>\n",
       "    <tr>\n",
       "      <th>220</th>\n",
       "      <td>57</td>\n",
       "      <td>0.0</td>\n",
       "      <td>0.0</td>\n",
       "      <td>0.0</td>\n",
       "      <td>0.0</td>\n",
       "      <td>0.0</td>\n",
       "      <td>0.0</td>\n",
       "      <td>0.0</td>\n",
       "      <td>1.0</td>\n",
       "      <td>4.0</td>\n",
       "      <td>2.0</td>\n",
       "      <td>92</td>\n",
       "      <td>6.0</td>\n",
       "      <td>1.0</td>\n",
       "      <td>1.0</td>\n",
       "      <td>0.0</td>\n",
       "      <td>0.0</td>\n",
       "      <td>2.0</td>\n",
       "      <td>3.0</td>\n",
       "      <td>0.0</td>\n",
       "    </tr>\n",
       "    <tr>\n",
       "      <th>221</th>\n",
       "      <td>45</td>\n",
       "      <td>3.0</td>\n",
       "      <td>22.0</td>\n",
       "      <td>43.0</td>\n",
       "      <td>0.0</td>\n",
       "      <td>0.0</td>\n",
       "      <td>18.0</td>\n",
       "      <td>0.0</td>\n",
       "      <td>5.0</td>\n",
       "      <td>65.0</td>\n",
       "      <td>19.0</td>\n",
       "      <td>1484</td>\n",
       "      <td>13.0</td>\n",
       "      <td>4.0</td>\n",
       "      <td>15.0</td>\n",
       "      <td>0.0</td>\n",
       "      <td>1.0</td>\n",
       "      <td>13.0</td>\n",
       "      <td>67.0</td>\n",
       "      <td>4.0</td>\n",
       "    </tr>\n",
       "    <tr>\n",
       "      <th>222</th>\n",
       "      <td>200021</td>\n",
       "      <td>3.0</td>\n",
       "      <td>19.0</td>\n",
       "      <td>30.0</td>\n",
       "      <td>1.0</td>\n",
       "      <td>1.0</td>\n",
       "      <td>26.0</td>\n",
       "      <td>1.0</td>\n",
       "      <td>4.0</td>\n",
       "      <td>54.0</td>\n",
       "      <td>20.0</td>\n",
       "      <td>1227</td>\n",
       "      <td>11.0</td>\n",
       "      <td>2.0</td>\n",
       "      <td>9.0</td>\n",
       "      <td>0.0</td>\n",
       "      <td>1.0</td>\n",
       "      <td>35.0</td>\n",
       "      <td>55.0</td>\n",
       "      <td>3.0</td>\n",
       "    </tr>\n",
       "    <tr>\n",
       "      <th>223</th>\n",
       "      <td>119</td>\n",
       "      <td>1.0</td>\n",
       "      <td>4.0</td>\n",
       "      <td>5.0</td>\n",
       "      <td>0.0</td>\n",
       "      <td>0.0</td>\n",
       "      <td>0.0</td>\n",
       "      <td>1.0</td>\n",
       "      <td>3.0</td>\n",
       "      <td>11.0</td>\n",
       "      <td>2.0</td>\n",
       "      <td>173</td>\n",
       "      <td>9.0</td>\n",
       "      <td>1.0</td>\n",
       "      <td>3.0</td>\n",
       "      <td>0.0</td>\n",
       "      <td>0.0</td>\n",
       "      <td>1.0</td>\n",
       "      <td>7.0</td>\n",
       "      <td>2.0</td>\n",
       "    </tr>\n",
       "    <tr>\n",
       "      <th>224</th>\n",
       "      <td>100001</td>\n",
       "      <td>0.0</td>\n",
       "      <td>2.0</td>\n",
       "      <td>3.0</td>\n",
       "      <td>1.0</td>\n",
       "      <td>1.0</td>\n",
       "      <td>0.0</td>\n",
       "      <td>1.0</td>\n",
       "      <td>1.0</td>\n",
       "      <td>11.0</td>\n",
       "      <td>7.0</td>\n",
       "      <td>133</td>\n",
       "      <td>14.0</td>\n",
       "      <td>0.0</td>\n",
       "      <td>1.0</td>\n",
       "      <td>0.0</td>\n",
       "      <td>0.0</td>\n",
       "      <td>2.0</td>\n",
       "      <td>8.0</td>\n",
       "      <td>2.0</td>\n",
       "    </tr>\n",
       "  </tbody>\n",
       "</table>\n",
       "<p>225 rows × 20 columns</p>\n",
       "</div>"
      ],
      "text/plain": [
       "     userId  About  Add Friend  Add to Playlist  Cancel  Churn  Downgrade  \\\n",
       "0    200002    3.0         4.0              8.0     0.0    0.0        5.0   \n",
       "1    100010    1.0         4.0              7.0     0.0    0.0        0.0   \n",
       "2       125    0.0         0.0              0.0     1.0    1.0        0.0   \n",
       "3        51    2.0        28.0             52.0     1.0    1.0       23.0   \n",
       "4       124    7.0        74.0            118.0     0.0    0.0       41.0   \n",
       "..      ...    ...         ...              ...     ...    ...        ...   \n",
       "220      57    0.0         0.0              0.0     0.0    0.0        0.0   \n",
       "221      45    3.0        22.0             43.0     0.0    0.0       18.0   \n",
       "222  200021    3.0        19.0             30.0     1.0    1.0       26.0   \n",
       "223     119    1.0         4.0              5.0     0.0    0.0        0.0   \n",
       "224  100001    0.0         2.0              3.0     1.0    1.0        0.0   \n",
       "\n",
       "     Error  Help   Home  Logout  NextSong  Roll Advert  Save Settings  \\\n",
       "0      0.0   2.0   20.0     5.0       387          7.0            0.0   \n",
       "1      0.0   2.0   11.0     5.0       275         52.0            0.0   \n",
       "2      0.0   0.0    0.0     0.0         8          1.0            0.0   \n",
       "3      1.0  12.0   75.0    24.0      2111          0.0            1.0   \n",
       "4      6.0  23.0  176.0    59.0      4079          4.0            6.0   \n",
       "..     ...   ...    ...     ...       ...          ...            ...   \n",
       "220    0.0   1.0    4.0     2.0        92          6.0            1.0   \n",
       "221    0.0   5.0   65.0    19.0      1484         13.0            4.0   \n",
       "222    1.0   4.0   54.0    20.0      1227         11.0            2.0   \n",
       "223    1.0   3.0   11.0     2.0       173          9.0            1.0   \n",
       "224    1.0   1.0   11.0     7.0       133         14.0            0.0   \n",
       "\n",
       "     Settings  Submit Downgrade  Submit Upgrade  Thumbs Down  Thumbs Up  \\\n",
       "0         3.0               0.0             1.0          6.0       21.0   \n",
       "1         0.0               0.0             0.0          5.0       17.0   \n",
       "2         0.0               0.0             0.0          0.0        0.0   \n",
       "3        12.0               0.0             0.0         21.0      100.0   \n",
       "4        20.0               0.0             0.0         41.0      171.0   \n",
       "..        ...               ...             ...          ...        ...   \n",
       "220       1.0               0.0             0.0          2.0        3.0   \n",
       "221      15.0               0.0             1.0         13.0       67.0   \n",
       "222       9.0               0.0             1.0         35.0       55.0   \n",
       "223       3.0               0.0             0.0          1.0        7.0   \n",
       "224       1.0               0.0             0.0          2.0        8.0   \n",
       "\n",
       "     Upgrade  \n",
       "0        2.0  \n",
       "1        2.0  \n",
       "2        0.0  \n",
       "3        0.0  \n",
       "4        0.0  \n",
       "..       ...  \n",
       "220      0.0  \n",
       "221      4.0  \n",
       "222      3.0  \n",
       "223      2.0  \n",
       "224      2.0  \n",
       "\n",
       "[225 rows x 20 columns]"
      ]
     },
     "execution_count": 283,
     "metadata": {},
     "output_type": "execute_result"
    }
   ],
   "source": [
    "useid_page_df.rename(columns={'Cancellation Confirmation': 'Churn'}, inplace = True)\n",
    "useid_page_df"
   ]
  },
  {
   "cell_type": "code",
   "execution_count": null,
   "metadata": {},
   "outputs": [],
   "source": []
  },
  {
   "cell_type": "code",
   "execution_count": null,
   "metadata": {},
   "outputs": [],
   "source": []
  },
  {
   "cell_type": "code",
   "execution_count": 286,
   "metadata": {},
   "outputs": [
    {
     "data": {
      "text/plain": [
       "Index(['userId', 'About', 'Add Friend', 'Add to Playlist', 'Cancel',\n",
       "       'Downgrade', 'Error', 'Help', 'Home', 'Logout', 'NextSong',\n",
       "       'Roll Advert', 'Save Settings', 'Settings', 'Submit Downgrade',\n",
       "       'Submit Upgrade', 'Thumbs Down', 'Thumbs Up', 'Upgrade'],\n",
       "      dtype='object')"
      ]
     },
     "execution_count": 286,
     "metadata": {},
     "output_type": "execute_result"
    }
   ],
   "source": [
    "plot_columns = useid_page_df.drop('Churn', axis = 1).columns\n",
    "plot_columns"
   ]
  },
  {
   "cell_type": "code",
   "execution_count": 288,
   "metadata": {},
   "outputs": [
    {
     "data": {
      "image/png": "[encoded data removed]",
      "text/plain": [
       "<Figure size 720x1296 with 18 Axes>"
      ]
     },
     "metadata": {
      "needs_background": "light"
     },
     "output_type": "display_data"
    }
   ],
   "source": [
    "fig = plt.figure(figsize=(10, 18))\n",
    "\n",
    "for i in range(1,len(plot_columns)):\n",
    "    axis = fig.add_subplot(6,4,i)\n",
    "    useid_page_df.boxplot(plot_columns[i], ax = axis, grid = False,  by='Churn', showfliers=False)\n",
    "\n",
    "fig.tight_layout(rect=[0, 0.03, 1, 0.95])"
   ]
  },
  {
   "cell_type": "code",
   "execution_count": null,
   "metadata": {},
   "outputs": [],
   "source": []
  },
  {
   "cell_type": "code",
   "execution_count": null,
   "metadata": {},
   "outputs": [],
   "source": []
  },
  {
   "cell_type": "markdown",
   "metadata": {},
   "source": [
    "# Feature Engineering\n",
    "Once you've familiarized yourself with the data, build out the features you find promising to train your model on. To work with the full dataset, you can follow the following steps.\n",
    "- Write a script to extract the necessary features from the smaller subset of data\n",
    "- Ensure that your script is scalable, using the best practices discussed in Lesson 3\n",
    "- Try your script on the full data set, debugging your script if necessary\n",
    "\n",
    "If you are working in the classroom workspace, you can just extract features based on the small subset of data contained here. Be sure to transfer over this work to the larger dataset when you work on your Spark cluster."
   ]
  },
  {
   "cell_type": "code",
   "execution_count": 302,
   "metadata": {},
   "outputs": [
    {
     "data": {
      "text/html": [
       "<div>\n",
       "<style scoped>\n",
       "    .dataframe tbody tr th:only-of-type {\n",
       "        vertical-align: middle;\n",
       "    }\n",
       "\n",
       "    .dataframe tbody tr th {\n",
       "        vertical-align: top;\n",
       "    }\n",
       "\n",
       "    .dataframe thead th {\n",
       "        text-align: right;\n",
       "    }\n",
       "</style>\n",
       "<table border=\"1\" class=\"dataframe\">\n",
       "  <thead>\n",
       "    <tr style=\"text-align: right;\">\n",
       "      <th></th>\n",
       "      <th>About</th>\n",
       "      <th>Add Friend</th>\n",
       "      <th>Add to Playlist</th>\n",
       "      <th>Cancel</th>\n",
       "      <th>Churn</th>\n",
       "      <th>Downgrade</th>\n",
       "      <th>Error</th>\n",
       "      <th>Help</th>\n",
       "      <th>Home</th>\n",
       "      <th>Logout</th>\n",
       "      <th>NextSong</th>\n",
       "      <th>Roll Advert</th>\n",
       "      <th>Save Settings</th>\n",
       "      <th>Settings</th>\n",
       "      <th>Submit Downgrade</th>\n",
       "      <th>Submit Upgrade</th>\n",
       "      <th>Thumbs Down</th>\n",
       "      <th>Thumbs Up</th>\n",
       "      <th>Upgrade</th>\n",
       "    </tr>\n",
       "  </thead>\n",
       "  <tbody>\n",
       "    <tr>\n",
       "      <th>About</th>\n",
       "      <td>1.000000</td>\n",
       "      <td>0.756170</td>\n",
       "      <td>0.781100</td>\n",
       "      <td>-0.197811</td>\n",
       "      <td>-0.197811</td>\n",
       "      <td>0.733903</td>\n",
       "      <td>0.471889</td>\n",
       "      <td>0.723991</td>\n",
       "      <td>0.774379</td>\n",
       "      <td>0.748116</td>\n",
       "      <td>0.782108</td>\n",
       "      <td>0.291010</td>\n",
       "      <td>0.494660</td>\n",
       "      <td>0.735887</td>\n",
       "      <td>0.371106</td>\n",
       "      <td>0.450831</td>\n",
       "      <td>0.686084</td>\n",
       "      <td>0.775240</td>\n",
       "      <td>0.368700</td>\n",
       "    </tr>\n",
       "    <tr>\n",
       "      <th>Add Friend</th>\n",
       "      <td>0.756170</td>\n",
       "      <td>1.000000</td>\n",
       "      <td>0.929507</td>\n",
       "      <td>-0.180956</td>\n",
       "      <td>-0.180956</td>\n",
       "      <td>0.859250</td>\n",
       "      <td>0.667941</td>\n",
       "      <td>0.889177</td>\n",
       "      <td>0.934844</td>\n",
       "      <td>0.919733</td>\n",
       "      <td>0.946730</td>\n",
       "      <td>0.367850</td>\n",
       "      <td>0.647334</td>\n",
       "      <td>0.855644</td>\n",
       "      <td>0.461898</td>\n",
       "      <td>0.580953</td>\n",
       "      <td>0.823676</td>\n",
       "      <td>0.902834</td>\n",
       "      <td>0.428851</td>\n",
       "    </tr>\n",
       "    <tr>\n",
       "      <th>Add to Playlist</th>\n",
       "      <td>0.781100</td>\n",
       "      <td>0.929507</td>\n",
       "      <td>1.000000</td>\n",
       "      <td>-0.151875</td>\n",
       "      <td>-0.151875</td>\n",
       "      <td>0.907773</td>\n",
       "      <td>0.681602</td>\n",
       "      <td>0.928972</td>\n",
       "      <td>0.970919</td>\n",
       "      <td>0.944485</td>\n",
       "      <td>0.986427</td>\n",
       "      <td>0.343019</td>\n",
       "      <td>0.639875</td>\n",
       "      <td>0.896953</td>\n",
       "      <td>0.453175</td>\n",
       "      <td>0.565297</td>\n",
       "      <td>0.831258</td>\n",
       "      <td>0.939989</td>\n",
       "      <td>0.400942</td>\n",
       "    </tr>\n",
       "    <tr>\n",
       "      <th>Cancel</th>\n",
       "      <td>-0.197811</td>\n",
       "      <td>-0.180956</td>\n",
       "      <td>-0.151875</td>\n",
       "      <td>1.000000</td>\n",
       "      <td>1.000000</td>\n",
       "      <td>-0.124208</td>\n",
       "      <td>-0.188287</td>\n",
       "      <td>-0.141573</td>\n",
       "      <td>-0.147023</td>\n",
       "      <td>-0.132591</td>\n",
       "      <td>-0.156110</td>\n",
       "      <td>0.028459</td>\n",
       "      <td>-0.083063</td>\n",
       "      <td>-0.120900</td>\n",
       "      <td>-0.099973</td>\n",
       "      <td>-0.068345</td>\n",
       "      <td>-0.074668</td>\n",
       "      <td>-0.168105</td>\n",
       "      <td>-0.013730</td>\n",
       "    </tr>\n",
       "    <tr>\n",
       "      <th>Churn</th>\n",
       "      <td>-0.197811</td>\n",
       "      <td>-0.180956</td>\n",
       "      <td>-0.151875</td>\n",
       "      <td>1.000000</td>\n",
       "      <td>1.000000</td>\n",
       "      <td>-0.124208</td>\n",
       "      <td>-0.188287</td>\n",
       "      <td>-0.141573</td>\n",
       "      <td>-0.147023</td>\n",
       "      <td>-0.132591</td>\n",
       "      <td>-0.156110</td>\n",
       "      <td>0.028459</td>\n",
       "      <td>-0.083063</td>\n",
       "      <td>-0.120900</td>\n",
       "      <td>-0.099973</td>\n",
       "      <td>-0.068345</td>\n",
       "      <td>-0.074668</td>\n",
       "      <td>-0.168105</td>\n",
       "      <td>-0.013730</td>\n",
       "    </tr>\n",
       "    <tr>\n",
       "      <th>Downgrade</th>\n",
       "      <td>0.733903</td>\n",
       "      <td>0.859250</td>\n",
       "      <td>0.907773</td>\n",
       "      <td>-0.124208</td>\n",
       "      <td>-0.124208</td>\n",
       "      <td>1.000000</td>\n",
       "      <td>0.649847</td>\n",
       "      <td>0.873665</td>\n",
       "      <td>0.919348</td>\n",
       "      <td>0.898380</td>\n",
       "      <td>0.929950</td>\n",
       "      <td>0.296489</td>\n",
       "      <td>0.673025</td>\n",
       "      <td>0.868210</td>\n",
       "      <td>0.426362</td>\n",
       "      <td>0.537482</td>\n",
       "      <td>0.836950</td>\n",
       "      <td>0.818785</td>\n",
       "      <td>0.335230</td>\n",
       "    </tr>\n",
       "    <tr>\n",
       "      <th>Error</th>\n",
       "      <td>0.471889</td>\n",
       "      <td>0.667941</td>\n",
       "      <td>0.681602</td>\n",
       "      <td>-0.188287</td>\n",
       "      <td>-0.188287</td>\n",
       "      <td>0.649847</td>\n",
       "      <td>1.000000</td>\n",
       "      <td>0.659052</td>\n",
       "      <td>0.699953</td>\n",
       "      <td>0.660163</td>\n",
       "      <td>0.706660</td>\n",
       "      <td>0.150245</td>\n",
       "      <td>0.465971</td>\n",
       "      <td>0.583134</td>\n",
       "      <td>0.316944</td>\n",
       "      <td>0.396235</td>\n",
       "      <td>0.595875</td>\n",
       "      <td>0.670309</td>\n",
       "      <td>0.207496</td>\n",
       "    </tr>\n",
       "    <tr>\n",
       "      <th>Help</th>\n",
       "      <td>0.723991</td>\n",
       "      <td>0.889177</td>\n",
       "      <td>0.928972</td>\n",
       "      <td>-0.141573</td>\n",
       "      <td>-0.141573</td>\n",
       "      <td>0.873665</td>\n",
       "      <td>0.659052</td>\n",
       "      <td>1.000000</td>\n",
       "      <td>0.931481</td>\n",
       "      <td>0.909744</td>\n",
       "      <td>0.941136</td>\n",
       "      <td>0.369635</td>\n",
       "      <td>0.624541</td>\n",
       "      <td>0.867738</td>\n",
       "      <td>0.456135</td>\n",
       "      <td>0.560651</td>\n",
       "      <td>0.788749</td>\n",
       "      <td>0.889711</td>\n",
       "      <td>0.413738</td>\n",
       "    </tr>\n",
       "    <tr>\n",
       "      <th>Home</th>\n",
       "      <td>0.774379</td>\n",
       "      <td>0.934844</td>\n",
       "      <td>0.970919</td>\n",
       "      <td>-0.147023</td>\n",
       "      <td>-0.147023</td>\n",
       "      <td>0.919348</td>\n",
       "      <td>0.699953</td>\n",
       "      <td>0.931481</td>\n",
       "      <td>1.000000</td>\n",
       "      <td>0.979852</td>\n",
       "      <td>0.986356</td>\n",
       "      <td>0.442752</td>\n",
       "      <td>0.666705</td>\n",
       "      <td>0.900499</td>\n",
       "      <td>0.500650</td>\n",
       "      <td>0.600829</td>\n",
       "      <td>0.856326</td>\n",
       "      <td>0.916201</td>\n",
       "      <td>0.471976</td>\n",
       "    </tr>\n",
       "    <tr>\n",
       "      <th>Logout</th>\n",
       "      <td>0.748116</td>\n",
       "      <td>0.919733</td>\n",
       "      <td>0.944485</td>\n",
       "      <td>-0.132591</td>\n",
       "      <td>-0.132591</td>\n",
       "      <td>0.898380</td>\n",
       "      <td>0.660163</td>\n",
       "      <td>0.909744</td>\n",
       "      <td>0.979852</td>\n",
       "      <td>1.000000</td>\n",
       "      <td>0.964499</td>\n",
       "      <td>0.497911</td>\n",
       "      <td>0.629359</td>\n",
       "      <td>0.864041</td>\n",
       "      <td>0.526056</td>\n",
       "      <td>0.603029</td>\n",
       "      <td>0.867002</td>\n",
       "      <td>0.880720</td>\n",
       "      <td>0.501462</td>\n",
       "    </tr>\n",
       "    <tr>\n",
       "      <th>NextSong</th>\n",
       "      <td>0.782108</td>\n",
       "      <td>0.946730</td>\n",
       "      <td>0.986427</td>\n",
       "      <td>-0.156110</td>\n",
       "      <td>-0.156110</td>\n",
       "      <td>0.929950</td>\n",
       "      <td>0.706660</td>\n",
       "      <td>0.941136</td>\n",
       "      <td>0.986356</td>\n",
       "      <td>0.964499</td>\n",
       "      <td>1.000000</td>\n",
       "      <td>0.362798</td>\n",
       "      <td>0.662628</td>\n",
       "      <td>0.902784</td>\n",
       "      <td>0.465063</td>\n",
       "      <td>0.573984</td>\n",
       "      <td>0.851885</td>\n",
       "      <td>0.941196</td>\n",
       "      <td>0.409875</td>\n",
       "    </tr>\n",
       "    <tr>\n",
       "      <th>Roll Advert</th>\n",
       "      <td>0.291010</td>\n",
       "      <td>0.367850</td>\n",
       "      <td>0.343019</td>\n",
       "      <td>0.028459</td>\n",
       "      <td>0.028459</td>\n",
       "      <td>0.296489</td>\n",
       "      <td>0.150245</td>\n",
       "      <td>0.369635</td>\n",
       "      <td>0.442752</td>\n",
       "      <td>0.497911</td>\n",
       "      <td>0.362798</td>\n",
       "      <td>1.000000</td>\n",
       "      <td>0.250651</td>\n",
       "      <td>0.351256</td>\n",
       "      <td>0.580493</td>\n",
       "      <td>0.468775</td>\n",
       "      <td>0.483808</td>\n",
       "      <td>0.265990</td>\n",
       "      <td>0.756353</td>\n",
       "    </tr>\n",
       "    <tr>\n",
       "      <th>Save Settings</th>\n",
       "      <td>0.494660</td>\n",
       "      <td>0.647334</td>\n",
       "      <td>0.639875</td>\n",
       "      <td>-0.083063</td>\n",
       "      <td>-0.083063</td>\n",
       "      <td>0.673025</td>\n",
       "      <td>0.465971</td>\n",
       "      <td>0.624541</td>\n",
       "      <td>0.666705</td>\n",
       "      <td>0.629359</td>\n",
       "      <td>0.662628</td>\n",
       "      <td>0.250651</td>\n",
       "      <td>1.000000</td>\n",
       "      <td>0.797353</td>\n",
       "      <td>0.263465</td>\n",
       "      <td>0.336208</td>\n",
       "      <td>0.596532</td>\n",
       "      <td>0.575503</td>\n",
       "      <td>0.187465</td>\n",
       "    </tr>\n",
       "    <tr>\n",
       "      <th>Settings</th>\n",
       "      <td>0.735887</td>\n",
       "      <td>0.855644</td>\n",
       "      <td>0.896953</td>\n",
       "      <td>-0.120900</td>\n",
       "      <td>-0.120900</td>\n",
       "      <td>0.868210</td>\n",
       "      <td>0.583134</td>\n",
       "      <td>0.867738</td>\n",
       "      <td>0.900499</td>\n",
       "      <td>0.864041</td>\n",
       "      <td>0.902784</td>\n",
       "      <td>0.351256</td>\n",
       "      <td>0.797353</td>\n",
       "      <td>1.000000</td>\n",
       "      <td>0.387337</td>\n",
       "      <td>0.490507</td>\n",
       "      <td>0.787458</td>\n",
       "      <td>0.838303</td>\n",
       "      <td>0.367605</td>\n",
       "    </tr>\n",
       "    <tr>\n",
       "      <th>Submit Downgrade</th>\n",
       "      <td>0.371106</td>\n",
       "      <td>0.461898</td>\n",
       "      <td>0.453175</td>\n",
       "      <td>-0.099973</td>\n",
       "      <td>-0.099973</td>\n",
       "      <td>0.426362</td>\n",
       "      <td>0.316944</td>\n",
       "      <td>0.456135</td>\n",
       "      <td>0.500650</td>\n",
       "      <td>0.526056</td>\n",
       "      <td>0.465063</td>\n",
       "      <td>0.580493</td>\n",
       "      <td>0.263465</td>\n",
       "      <td>0.387337</td>\n",
       "      <td>1.000000</td>\n",
       "      <td>0.677805</td>\n",
       "      <td>0.496730</td>\n",
       "      <td>0.412293</td>\n",
       "      <td>0.579808</td>\n",
       "    </tr>\n",
       "    <tr>\n",
       "      <th>Submit Upgrade</th>\n",
       "      <td>0.450831</td>\n",
       "      <td>0.580953</td>\n",
       "      <td>0.565297</td>\n",
       "      <td>-0.068345</td>\n",
       "      <td>-0.068345</td>\n",
       "      <td>0.537482</td>\n",
       "      <td>0.396235</td>\n",
       "      <td>0.560651</td>\n",
       "      <td>0.600829</td>\n",
       "      <td>0.603029</td>\n",
       "      <td>0.573984</td>\n",
       "      <td>0.468775</td>\n",
       "      <td>0.336208</td>\n",
       "      <td>0.490507</td>\n",
       "      <td>0.677805</td>\n",
       "      <td>1.000000</td>\n",
       "      <td>0.550209</td>\n",
       "      <td>0.527290</td>\n",
       "      <td>0.640462</td>\n",
       "    </tr>\n",
       "    <tr>\n",
       "      <th>Thumbs Down</th>\n",
       "      <td>0.686084</td>\n",
       "      <td>0.823676</td>\n",
       "      <td>0.831258</td>\n",
       "      <td>-0.074668</td>\n",
       "      <td>-0.074668</td>\n",
       "      <td>0.836950</td>\n",
       "      <td>0.595875</td>\n",
       "      <td>0.788749</td>\n",
       "      <td>0.856326</td>\n",
       "      <td>0.867002</td>\n",
       "      <td>0.851885</td>\n",
       "      <td>0.483808</td>\n",
       "      <td>0.596532</td>\n",
       "      <td>0.787458</td>\n",
       "      <td>0.496730</td>\n",
       "      <td>0.550209</td>\n",
       "      <td>1.000000</td>\n",
       "      <td>0.778244</td>\n",
       "      <td>0.464123</td>\n",
       "    </tr>\n",
       "    <tr>\n",
       "      <th>Thumbs Up</th>\n",
       "      <td>0.775240</td>\n",
       "      <td>0.902834</td>\n",
       "      <td>0.939989</td>\n",
       "      <td>-0.168105</td>\n",
       "      <td>-0.168105</td>\n",
       "      <td>0.818785</td>\n",
       "      <td>0.670309</td>\n",
       "      <td>0.889711</td>\n",
       "      <td>0.916201</td>\n",
       "      <td>0.880720</td>\n",
       "      <td>0.941196</td>\n",
       "      <td>0.265990</td>\n",
       "      <td>0.575503</td>\n",
       "      <td>0.838303</td>\n",
       "      <td>0.412293</td>\n",
       "      <td>0.527290</td>\n",
       "      <td>0.778244</td>\n",
       "      <td>1.000000</td>\n",
       "      <td>0.352198</td>\n",
       "    </tr>\n",
       "    <tr>\n",
       "      <th>Upgrade</th>\n",
       "      <td>0.368700</td>\n",
       "      <td>0.428851</td>\n",
       "      <td>0.400942</td>\n",
       "      <td>-0.013730</td>\n",
       "      <td>-0.013730</td>\n",
       "      <td>0.335230</td>\n",
       "      <td>0.207496</td>\n",
       "      <td>0.413738</td>\n",
       "      <td>0.471976</td>\n",
       "      <td>0.501462</td>\n",
       "      <td>0.409875</td>\n",
       "      <td>0.756353</td>\n",
       "      <td>0.187465</td>\n",
       "      <td>0.367605</td>\n",
       "      <td>0.579808</td>\n",
       "      <td>0.640462</td>\n",
       "      <td>0.464123</td>\n",
       "      <td>0.352198</td>\n",
       "      <td>1.000000</td>\n",
       "    </tr>\n",
       "  </tbody>\n",
       "</table>\n",
       "</div>"
      ],
      "text/plain": [
       "                     About  Add Friend  Add to Playlist    Cancel     Churn  \\\n",
       "About             1.000000    0.756170         0.781100 -0.197811 -0.197811   \n",
       "Add Friend        0.756170    1.000000         0.929507 -0.180956 -0.180956   \n",
       "Add to Playlist   0.781100    0.929507         1.000000 -0.151875 -0.151875   \n",
       "Cancel           -0.197811   -0.180956        -0.151875  1.000000  1.000000   \n",
       "Churn            -0.197811   -0.180956        -0.151875  1.000000  1.000000   \n",
       "Downgrade         0.733903    0.859250         0.907773 -0.124208 -0.124208   \n",
       "Error             0.471889    0.667941         0.681602 -0.188287 -0.188287   \n",
       "Help              0.723991    0.889177         0.928972 -0.141573 -0.141573   \n",
       "Home              0.774379    0.934844         0.970919 -0.147023 -0.147023   \n",
       "Logout            0.748116    0.919733         0.944485 -0.132591 -0.132591   \n",
       "NextSong          0.782108    0.946730         0.986427 -0.156110 -0.156110   \n",
       "Roll Advert       0.291010    0.367850         0.343019  0.028459  0.028459   \n",
       "Save Settings     0.494660    0.647334         0.639875 -0.083063 -0.083063   \n",
       "Settings          0.735887    0.855644         0.896953 -0.120900 -0.120900   \n",
       "Submit Downgrade  0.371106    0.461898         0.453175 -0.099973 -0.099973   \n",
       "Submit Upgrade    0.450831    0.580953         0.565297 -0.068345 -0.068345   \n",
       "Thumbs Down       0.686084    0.823676         0.831258 -0.074668 -0.074668   \n",
       "Thumbs Up         0.775240    0.902834         0.939989 -0.168105 -0.168105   \n",
       "Upgrade           0.368700    0.428851         0.400942 -0.013730 -0.013730   \n",
       "\n",
       "                  Downgrade     Error      Help      Home    Logout  NextSong  \\\n",
       "About              0.733903  0.471889  0.723991  0.774379  0.748116  0.782108   \n",
       "Add Friend         0.859250  0.667941  0.889177  0.934844  0.919733  0.946730   \n",
       "Add to Playlist    0.907773  0.681602  0.928972  0.970919  0.944485  0.986427   \n",
       "Cancel            -0.124208 -0.188287 -0.141573 -0.147023 -0.132591 -0.156110   \n",
       "Churn             -0.124208 -0.188287 -0.141573 -0.147023 -0.132591 -0.156110   \n",
       "Downgrade          1.000000  0.649847  0.873665  0.919348  0.898380  0.929950   \n",
       "Error              0.649847  1.000000  0.659052  0.699953  0.660163  0.706660   \n",
       "Help               0.873665  0.659052  1.000000  0.931481  0.909744  0.941136   \n",
       "Home               0.919348  0.699953  0.931481  1.000000  0.979852  0.986356   \n",
       "Logout             0.898380  0.660163  0.909744  0.979852  1.000000  0.964499   \n",
       "NextSong           0.929950  0.706660  0.941136  0.986356  0.964499  1.000000   \n",
       "Roll Advert        0.296489  0.150245  0.369635  0.442752  0.497911  0.362798   \n",
       "Save Settings      0.673025  0.465971  0.624541  0.666705  0.629359  0.662628   \n",
       "Settings           0.868210  0.583134  0.867738  0.900499  0.864041  0.902784   \n",
       "Submit Downgrade   0.426362  0.316944  0.456135  0.500650  0.526056  0.465063   \n",
       "Submit Upgrade     0.537482  0.396235  0.560651  0.600829  0.603029  0.573984   \n",
       "Thumbs Down        0.836950  0.595875  0.788749  0.856326  0.867002  0.851885   \n",
       "Thumbs Up          0.818785  0.670309  0.889711  0.916201  0.880720  0.941196   \n",
       "Upgrade            0.335230  0.207496  0.413738  0.471976  0.501462  0.409875   \n",
       "\n",
       "                  Roll Advert  Save Settings  Settings  Submit Downgrade  \\\n",
       "About                0.291010       0.494660  0.735887          0.371106   \n",
       "Add Friend           0.367850       0.647334  0.855644          0.461898   \n",
       "Add to Playlist      0.343019       0.639875  0.896953          0.453175   \n",
       "Cancel               0.028459      -0.083063 -0.120900         -0.099973   \n",
       "Churn                0.028459      -0.083063 -0.120900         -0.099973   \n",
       "Downgrade            0.296489       0.673025  0.868210          0.426362   \n",
       "Error                0.150245       0.465971  0.583134          0.316944   \n",
       "Help                 0.369635       0.624541  0.867738          0.456135   \n",
       "Home                 0.442752       0.666705  0.900499          0.500650   \n",
       "Logout               0.497911       0.629359  0.864041          0.526056   \n",
       "NextSong             0.362798       0.662628  0.902784          0.465063   \n",
       "Roll Advert          1.000000       0.250651  0.351256          0.580493   \n",
       "Save Settings        0.250651       1.000000  0.797353          0.263465   \n",
       "Settings             0.351256       0.797353  1.000000          0.387337   \n",
       "Submit Downgrade     0.580493       0.263465  0.387337          1.000000   \n",
       "Submit Upgrade       0.468775       0.336208  0.490507          0.677805   \n",
       "Thumbs Down          0.483808       0.596532  0.787458          0.496730   \n",
       "Thumbs Up            0.265990       0.575503  0.838303          0.412293   \n",
       "Upgrade              0.756353       0.187465  0.367605          0.579808   \n",
       "\n",
       "                  Submit Upgrade  Thumbs Down  Thumbs Up   Upgrade  \n",
       "About                   0.450831     0.686084   0.775240  0.368700  \n",
       "Add Friend              0.580953     0.823676   0.902834  0.428851  \n",
       "Add to Playlist         0.565297     0.831258   0.939989  0.400942  \n",
       "Cancel                 -0.068345    -0.074668  -0.168105 -0.013730  \n",
       "Churn                  -0.068345    -0.074668  -0.168105 -0.013730  \n",
       "Downgrade               0.537482     0.836950   0.818785  0.335230  \n",
       "Error                   0.396235     0.595875   0.670309  0.207496  \n",
       "Help                    0.560651     0.788749   0.889711  0.413738  \n",
       "Home                    0.600829     0.856326   0.916201  0.471976  \n",
       "Logout                  0.603029     0.867002   0.880720  0.501462  \n",
       "NextSong                0.573984     0.851885   0.941196  0.409875  \n",
       "Roll Advert             0.468775     0.483808   0.265990  0.756353  \n",
       "Save Settings           0.336208     0.596532   0.575503  0.187465  \n",
       "Settings                0.490507     0.787458   0.838303  0.367605  \n",
       "Submit Downgrade        0.677805     0.496730   0.412293  0.579808  \n",
       "Submit Upgrade          1.000000     0.550209   0.527290  0.640462  \n",
       "Thumbs Down             0.550209     1.000000   0.778244  0.464123  \n",
       "Thumbs Up               0.527290     0.778244   1.000000  0.352198  \n",
       "Upgrade                 0.640462     0.464123   0.352198  1.000000  "
      ]
     },
     "execution_count": 302,
     "metadata": {},
     "output_type": "execute_result"
    }
   ],
   "source": [
    "corrMatrix = useid_page_df.corr()\n",
    "corrMatrix"
   ]
  },
  {
   "cell_type": "code",
   "execution_count": 303,
   "metadata": {},
   "outputs": [
    {
     "data": {
      "image/png": "[encoded data removed]",
      "text/plain": [
       "<Figure size 1080x720 with 2 Axes>"
      ]
     },
     "metadata": {
      "needs_background": "light"
     },
     "output_type": "display_data"
    }
   ],
   "source": [
    "fig = plt.figure(figsize=(15, 10))\n",
    "sb.heatmap(corrMatrix, annot=True,cmap = 'viridis_r')\n",
    "plt.title('Correlation Matrix of Page', fontsize=15)\n",
    "plt.show()"
   ]
  },
  {
   "cell_type": "markdown",
   "metadata": {},
   "source": [
    "# Modeling\n",
    "Split the full dataset into train, test, and validation sets. Test out several of the machine learning methods you learned. Evaluate the accuracy of the various models, tuning parameters as necessary. Determine your winning model based on test accuracy and report results on the validation set. Since the churned users are a fairly small subset, I suggest using F1 score as the metric to optimize."
   ]
  },
  {
   "cell_type": "code",
   "execution_count": null,
   "metadata": {},
   "outputs": [],
   "source": []
  },
  {
   "cell_type": "markdown",
   "metadata": {},
   "source": [
    "# Final Steps\n",
    "Clean up your code, adding comments and renaming variables to make the code easier to read and maintain. Refer to the Spark Project Overview page and Data Scientist Capstone Project Rubric to make sure you are including all components of the capstone project and meet all expectations. Remember, this includes thorough documentation in a README file in a Github repository, as well as a web app or blog post."
   ]
  },
  {
   "cell_type": "code",
   "execution_count": null,
   "metadata": {},
   "outputs": [],
   "source": []
  }
 ],
 "metadata": {
  "kernelspec": {
   "display_name": "Python 3",
   "language": "python",
   "name": "python3"
  },
  "language_info": {
   "codemirror_mode": {
    "name": "ipython",
    "version": 3
   },
   "file_extension": ".py",
   "mimetype": "text/x-python",
   "name": "python",
   "nbconvert_exporter": "python",
   "pygments_lexer": "ipython3",
   "version": "3.8.5"
  }
 },
 "nbformat": 4,
 "nbformat_minor": 2
}
